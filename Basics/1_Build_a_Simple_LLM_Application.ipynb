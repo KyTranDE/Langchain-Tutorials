{
 "cells": [
  {
   "cell_type": "markdown",
   "metadata": {},
   "source": [
    "### **Using Language Models**\n"
   ]
  },
  {
   "cell_type": "code",
   "execution_count": 4,
   "metadata": {},
   "outputs": [],
   "source": [
    "import os \n",
    "from dotenv import load_dotenv\n",
    "load_dotenv()\n",
    "\n",
    "api_key = os.environ[\"OPENAI_API_KEY\"]"
   ]
  },
  {
   "cell_type": "code",
   "execution_count": 5,
   "metadata": {},
   "outputs": [],
   "source": [
    "from langchain_openai import ChatOpenAI\n",
    "\n",
    "llm = ChatOpenAI(model=\"gpt-4o-mini\", api_key=api_key)"
   ]
  },
  {
   "cell_type": "code",
   "execution_count": 10,
   "metadata": {},
   "outputs": [
    {
     "data": {
      "text/plain": [
       "AIMessage(content='Chào bạn! Tôi là một trí tuệ nhân tạo được phát triển bởi OpenAI. Tôi có thể giúp bạn với nhiều thông tin và câu hỏi khác nhau. Bạn cần giúp gì hôm nay?', additional_kwargs={'refusal': None}, response_metadata={'token_usage': {'completion_tokens': 41, 'prompt_tokens': 23, 'total_tokens': 64, 'completion_tokens_details': {'accepted_prediction_tokens': 0, 'audio_tokens': 0, 'reasoning_tokens': 0, 'rejected_prediction_tokens': 0}, 'prompt_tokens_details': {'audio_tokens': 0, 'cached_tokens': 0}}, 'model_name': 'gpt-4o-mini-2024-07-18', 'system_fingerprint': 'fp_0ba0d124f1', 'finish_reason': 'stop', 'logprobs': None}, id='run-f8e79404-6868-400d-9310-f05b9a864768-0', usage_metadata={'input_tokens': 23, 'output_tokens': 41, 'total_tokens': 64, 'input_token_details': {'audio': 0, 'cache_read': 0}, 'output_token_details': {'audio': 0, 'reasoning': 0}})"
      ]
     },
     "execution_count": 10,
     "metadata": {},
     "output_type": "execute_result"
    }
   ],
   "source": [
    "from langchain_core.messages import  HumanMessage, SystemMessage\n",
    "\n",
    "messages = [\n",
    "    HumanMessage(\"chào bạn bạn là ai ?\"),\n",
    "    SystemMessage(\"Tôi là openai\"),\n",
    "]\n",
    "llm.invoke(messages)\n",
    "\n"
   ]
  },
  {
   "cell_type": "markdown",
   "metadata": {},
   "source": [
    "- Phương thức **.invoke** sẽ gọi đên model llm để xử lí cái messages.\n",
    "- AI trả lời: **\"Chào bạn! Tôi là một trí tuệ nhân tạo được phát triển bởi OpenAI. Tôi có thể giúp bạn với nhiều thông tin và câu hỏi khác nhau. Bạn cần giúp gì hôm nay?\"**\n",
    "- Thông tin thêm:\n",
    "  - **Tokens sử dụng:** \n",
    "    - Đầu vào (prompt_tokens): 23\n",
    "    - Đầu ra (completion_tokens): 41\n",
    "    - Tổng cộng (total_tokens): 64\n",
    "  - **Mô hình sử dụng:** GPT-4o-mini-2024-07-18\n",
    "  - **Lý do hoàn thành:** Đã trả lời xong (finish_reason: \"stop\")\n",
    "\n",
    "**Ý nghĩa:**\n",
    "1. **AIMessage** là một đối tượng chứa tin nhắn của AI, kèm theo:\n",
    "   - Nội dung tin nhắn.\n",
    "   - Các dữ liệu như số token đã dùng, tốc độ phản hồi, và thông tin mô hình.\n",
    "2. **Tokens**: Là số từ hoặc ký tự mà AI cần để xử lý và trả lời.\n",
    "3. Các thông tin này giúp bạn:\n",
    "   - Hiểu AI đang làm gì.\n",
    "   - Theo dõi chi phí (token usage).\n",
    "   - Biết mô hình hoạt động ra sao.\n",
    "\n",
    "**Tóm lại:** Đây là cách ghi lại thông tin chi tiết về cách AI phản hồi, giúp dễ theo dõi và tối ưu hóa việc sử dụng."
   ]
  },
  {
   "cell_type": "markdown",
   "metadata": {},
   "source": [
    "### **Prompt Templates**"
   ]
  },
  {
   "cell_type": "code",
   "execution_count": 13,
   "metadata": {},
   "outputs": [],
   "source": [
    "from langchain_core.prompts import ChatPromptTemplate\n",
    "\n",
    "system_template = \"\"\"\n",
    "Giả sử bạn là chuyên gia bác sĩ LongChau , lưu ý trả lời bằng tiếng việt , những câu hỏi không liên quan đến sức khỏe sẽ không được trả lời.\n",
    "Kịch bản trả lời : \n",
    "Chào khách hàng (tên khách hàng) , tôi là bác sĩ LongChau , tôi xin phép trả lời câu hỏi của anh chị như sau .\n",
    "Giải đáp thắc mắc:\n",
    "xác định vấn đề.\n",
    "Đưa ra giải pháp.\n",
    "Đưa ra lời khuyên.\n",
    "Đề nghị người hỏi đến bệnh viện của LongChau để được tư vấn cụ thể hơn.\n",
    "\n",
    "Sau đây là kiến thức được cung cấp:\n",
    "-----------------------------------------\n",
    "{content}\n",
    "\n",
    "\"\"\"\n",
    "\n",
    "prompt_template = ChatPromptTemplate.from_messages(\n",
    "    [\n",
    "     (\"system\", system_template), \n",
    "     (\"human\", \"{human_question}\"),\n",
    "    ]\n",
    ")\n",
    "\n"
   ]
  },
  {
   "cell_type": "code",
   "execution_count": 14,
   "metadata": {},
   "outputs": [],
   "source": [
    "content = \"\"\"\n",
    "Đau bụng về đêm là dấu hiệu của bệnh gì?\n",
    "Ngày 26/03/2023\n",
    "Kích thước chữ\n",
    "\n",
    "Mặc định\n",
    "\n",
    "Lớn hơn\n",
    "\n",
    "Đau bụng về đêm hay đau bụng ban đêm là hiện tượng rất phổ biến, có nhiều nguyên nhân dẫn đến tình trạng này. Để tìm hiểu xem đau bụng vào ban đêm là triệu chứng của bệnh gì, mời bạn theo dõi bài viết sau.\n",
    "\n",
    "Theo nhiều chuyên gia y tế, việc bị đau bụng về đêm cơ thể liên quan đến các vấn để của dạ dày như trào ngược dạ dày, khó tiêu,... Trong bài viết dưới đây, Nhà thuốc Long Châu mời bạn cùng tìm hiểu về hiện tượng này nhé. \n",
    "\n",
    "Đau bụng về đêm là bị bệnh gì? \n",
    "Nhiều người bị đau bụng về đêm thường xuyên và rất lo lắng mình có thể bị mắc bệnh nghiêm trọng nào đó. Giải đáp cho những lo lắng này, các chuyên gia đã đưa ra những nguyên nhân gây đau bụng về đêm gồm: \n",
    "\n",
    "Đau bụng về đêm trên rốn - Dấu hiệu trào ngược dạ dày\n",
    "Khi axit dạ dày bị trào ngược, đi vào ống dẫn thức ăn sẽ gây ra cảm giác nóng rát trong bụng rất khó chịu, đây có thể là nguyên nhân khiến bạn bị đau bụng về đêm. Chứng trào ngược dạ dày thực quản cũng có thể gây nhiều triệu chứng khác nhau buồn nôn, đầy bụng khó tiêu, đau rát họng,...\n",
    "\n",
    "Đau bụng về đêm là dấu hiệu của bệnh gì 1Trào ngược dạ dày có thể gây đau bụng về đêm, kèm theo biểu hiện nóng rát bụng\n",
    "Những yếu tố khiến axit dạ dày dễ bị trào ngược gây đau bụng vào ban đêm như: \n",
    "\n",
    "Thừa cân, béo phì; \n",
    "Uống quá nhiều rượu hoặc đồ uống có cồn khác; \n",
    "Nằm ngay sau khi ăn; \n",
    "Ăn quá no, nhất là khi ăn no xong lập tức nằm ngủ; \n",
    "Ăn nhiều thực phẩm khó tiêu như các món có gia vị cay nóng, nhiều dầu mỡ. \n",
    "Đau bụng ban đêm do bệnh loét dạ dày, ruột\n",
    "Nếu bạn thường xuyên bị đau bụng về đêm thì rất có thể đây là triệu chứng cho thấy bệnh viêm loét dạ dày, loét ruột đấy. Bệnh lý này khiến cho vùng dạ dày bị nóng lên, đặc biệt là sau khi ăn, lượng axit dạ dày được tiết ra nhiều để tiêu hóa thức ăn. Cơn đau bụng do loét dạ dày có thể tăng lên khi ăn no hoặc khi quá đói. \n",
    "\n",
    "Sỏi mật gây đau bụng về đêm\n",
    "Bệnh sỏi mật cũng có triệu chứng đau bụng về đêm. Túi mật khá nhỏ, nằm dưới gan và đóng vai trò giải phóng mật để hỗ trợ trong quá trình tiêu hóa thức ăn. Khi dịch mật tích tụ quá nhiều và quá lâu trong cơ thể sẽ hình thành những viên sỏi cứng gọi là sỏi mật.\n",
    "\n",
    "Hội chứng ruột kích thích\n",
    "Ngoài những bệnh lý nêu trên thì hội chứng ruột kích thích cũng có thể là nguyên nhân dẫn đến hiện tượng đau bụng về đêm. Tỷ lệ người bị đau bụng ban đêm do hội chứng này khá cao nên đây có thể xem là triệu chứng ban đầu của bệnh. Ngoài đau bụng mỗi khi buổi đêm, người bị hội chứng ruột kích thích còn có những biểu hiện thông dụng khác như đầy hơi, ăn uống khó tiêu, ợ hơi,...\n",
    "\n",
    "Bệnh celiac gây đau bụng ban đêm \n",
    "Bệnh dị ứng celiac là tình trạng dị ứng với gluten khá phổ biến. Người bị bệnh này khi ăn những thực phẩm có chứa gluten như lúa mạch, lúa mì,... sẽ rất dễ bị đau bụng về đêm. Nếu ăn quá nhiều có thể kèm theo một số triệu chứng khác như ợ hơi, đầy bụng, đau bụng, tiêu chảy,...\n",
    "\n",
    "Đau bụng kinh, lạc nội mạc tử cung\n",
    "Nếu bạn cảm nhận cơn đau bụng về đêm xuất phát từ vị trí dưới rốn và cảm giác đau quặn, đau ngắt quãng không liên tục thì rất có thể đây là chứng đau bụng kinh bình thường, khi tử cung đang tăng cường co bóp để đẩy hết những niêm mạc ra ngoài. Ngoài ra, bệnh lạc nội mạc tử cung khiến niêm mạc tử cung bị lạc vào những cơ quan khác cũng có thể gây đau bụng ban đêm kéo dài. \n",
    "\n",
    "Đau bụng về đêm là dấu hiệu của bệnh gì 2Phụ nữ bị đau bụng dưới rốn ban đêm có thể là dấu hiệu của kỳ kinh nguyệt\n",
    "Đau bụng về đêm có nguy hiểm không?\n",
    "Đau bụng về đêm có rất nhiều nguyên nhân và đối tượng khác nhau nên rất khó xác định có nguy hiểm không. Đối với trẻ em và người lớn, mức độ nghiêm trọng khi bị đau bụng ban đêm là khác nhau. \n",
    "\n",
    "Đối với trẻ em\n",
    "Trẻ em là đối tượng khá nhạy cảm và nguyên nhân khiến trẻ đau bụng về đêm có thể do 2 nguyên nhân chính là sinh lý hoặc bệnh lý. Trẻ em bị đau bụng vào ban đêm sẽ nguy hiểm hơn so với người lớn, đặc biệt là khi nguyên nhân đến từ những bệnh lý như táo bón, trào ngược axit dạ dày, ngộ độc thực phẩm,...\n",
    "\n",
    "Nếu trẻ em bị đau bụng về đêm kèm theo một số triệu chứng dưới đây, bạn cần đưa bé đến bệnh viện càng sớm càng tốt để được điều trị kịp thời, hạn chế biến chứng nguy hiểm. \n",
    "\n",
    "Sốt cao không hạ; \n",
    "Nôn ói; \n",
    "Tiêu chảy; \n",
    "Trẻ quấy khóc dữ dội, bố mẹ không thể dỗ bé nín; \n",
    "Tần suất trẻ bị đau bụng về đêm thường xuyên xảy ra. \n",
    "Đối với người lớn\n",
    "Người lớn bị đau bụng về đêm có thể do những nguyên nhân bệnh lý nêu trên. Hầu hết những người gặp tình trạng này đều không quá nghiêm trọng và không ảnh hưởng quá lớn đến sức khỏe nhưng việc chủ quan là không nên. Khi bạn nhận thấy mình thường xuyên bị đau bụng về đêm kèm theo một số vấn đề sức khỏe dưới đây, hãy đến bệnh viện và kiểm tra sức khỏe:\n",
    "\n",
    "Cơn đau bụng dữ dội, đau liên tục, cơn đau tăng dần hoặc không có dấu hiệu thuyên giảm; \n",
    "Buồn nôn, nôn ói liên tục; \n",
    "Sụt cân nhanh chóng, đột ngột dù vẫn ăn uống bình thường; \n",
    "Sưng hoặc viêm dạ dày; \n",
    "Đau khớp, nhức cơ thường xuyên; \n",
    "Vàng da, vàng mắt; \n",
    "Khó thở,...\n",
    "Cách ngăn ngừa đau bụng về đêm\n",
    "Theo dõi bài viết đến đây, chắc hẳn bạn cũng rất muốn biết phương pháp giảm thiểu nguy cơ đau bụng về đêm. Theo các chuyên gia, việc sử dụng một số loại thuốc kháng sinh kháng vi khuẩn H.pylori rất có tác dụng đấy. Đây là loại vi khuẩn có trong đường ruột và thường gây đau bụng về đêm. \n",
    "\n",
    "Đau bụng về đêm là dấu hiệu của bệnh gì 31 - 2 cốc sữa chua mỗi ngày giúp bổ sung lợi khuẩn cho đường ruột khỏe mạnh\n",
    "Ngoài ra, những việc làm dưới đây cũng giúp đường ruột của bạn khỏe mạnh hơn, hạn chế nguy cơ bị đau bụng về đêm do bệnh về đường tiêu hóa. \n",
    "\n",
    "Hạn chế ăn quá nhiều hoặc quá thường xuyên những thực phẩm chứa nhiều đường, dầu mỡ, món ăn chiên xào hoặc thực phẩm cay nóng, nhiều ớt.\n",
    "Khi ngủ nên kê cao gối hơn.\n",
    "Bổ sung lợi khuẩn cho đường ruột khỏe mạnh bằng việc ăn sữa chua, uống bổ sung men vi sinh,... hàng ngày.\n",
    "Tránh tiêu thụ thức ăn trong vòng 2 tiếng trước khi đi ngủ.\n",
    "Không nên nằm ngay sau khi ăn, thay vào đó, hãy ngồi hoặc đi lại nhẹ nhàng.\n",
    "Tránh các thức uống có cồn và cafein như rượu, bia, trà đặc, cafe,...\n",
    "Mong rằng qua những thông tin mà Nhà thuốc Long Châu chia sẻ trên đây đã giúp bạn hiểu hơn về hiện tượng đau bụng về đêm. Tình trạng đau bụng ban đêm đa phần tuy không gây nguy hiểm nhưng bạn cần thăm khám, điều trị sớm, tránh làm ảnh hưởng đến đời sống, công việc hàng ngày.\n",
    "\n",
    "\"\"\""
   ]
  },
  {
   "cell_type": "code",
   "execution_count": 17,
   "metadata": {},
   "outputs": [
    {
     "data": {
      "text/plain": [
       "ChatPromptValue(messages=[SystemMessage(content='\\nGiả sử bạn là chuyên gia bác sĩ LongChau , lưu ý trả lời bằng tiếng việt , những câu hỏi không liên quan đến sức khỏe sẽ không được trả lời.\\nKịch bản trả lời : \\nChào khách hàng (tên khách hàng) , tôi là bác sĩ LongChau , tôi xin phép trả lời câu hỏi của anh chị như sau .\\nGiải đáp thắc mắc:\\nxác định vấn đề.\\nĐưa ra giải pháp.\\nĐưa ra lời khuyên.\\nĐề nghị người hỏi đến bệnh viện của LongChau để được tư vấn cụ thể hơn.\\n\\nSau đây là kiến thức được cung cấp:\\n-----------------------------------------\\n\\nĐau bụng về đêm là dấu hiệu của bệnh gì?\\nNgày 26/03/2023\\nKích thước chữ\\n\\nMặc định\\n\\nLớn hơn\\n\\nĐau bụng về đêm hay đau bụng ban đêm là hiện tượng rất phổ biến, có nhiều nguyên nhân dẫn đến tình trạng này. Để tìm hiểu xem đau bụng vào ban đêm là triệu chứng của bệnh gì, mời bạn theo dõi bài viết sau.\\n\\nTheo nhiều chuyên gia y tế, việc bị đau bụng về đêm cơ thể liên quan đến các vấn để của dạ dày như trào ngược dạ dày, khó tiêu,... Trong bài viết dưới đây, Nhà thuốc Long Châu mời bạn cùng tìm hiểu về hiện tượng này nhé. \\n\\nĐau bụng về đêm là bị bệnh gì? \\nNhiều người bị đau bụng về đêm thường xuyên và rất lo lắng mình có thể bị mắc bệnh nghiêm trọng nào đó. Giải đáp cho những lo lắng này, các chuyên gia đã đưa ra những nguyên nhân gây đau bụng về đêm gồm: \\n\\nĐau bụng về đêm trên rốn - Dấu hiệu trào ngược dạ dày\\nKhi axit dạ dày bị trào ngược, đi vào ống dẫn thức ăn sẽ gây ra cảm giác nóng rát trong bụng rất khó chịu, đây có thể là nguyên nhân khiến bạn bị đau bụng về đêm. Chứng trào ngược dạ dày thực quản cũng có thể gây nhiều triệu chứng khác nhau buồn nôn, đầy bụng khó tiêu, đau rát họng,...\\n\\nĐau bụng về đêm là dấu hiệu của bệnh gì 1Trào ngược dạ dày có thể gây đau bụng về đêm, kèm theo biểu hiện nóng rát bụng\\nNhững yếu tố khiến axit dạ dày dễ bị trào ngược gây đau bụng vào ban đêm như: \\n\\nThừa cân, béo phì; \\nUống quá nhiều rượu hoặc đồ uống có cồn khác; \\nNằm ngay sau khi ăn; \\nĂn quá no, nhất là khi ăn no xong lập tức nằm ngủ; \\nĂn nhiều thực phẩm khó tiêu như các món có gia vị cay nóng, nhiều dầu mỡ. \\nĐau bụng ban đêm do bệnh loét dạ dày, ruột\\nNếu bạn thường xuyên bị đau bụng về đêm thì rất có thể đây là triệu chứng cho thấy bệnh viêm loét dạ dày, loét ruột đấy. Bệnh lý này khiến cho vùng dạ dày bị nóng lên, đặc biệt là sau khi ăn, lượng axit dạ dày được tiết ra nhiều để tiêu hóa thức ăn. Cơn đau bụng do loét dạ dày có thể tăng lên khi ăn no hoặc khi quá đói. \\n\\nSỏi mật gây đau bụng về đêm\\nBệnh sỏi mật cũng có triệu chứng đau bụng về đêm. Túi mật khá nhỏ, nằm dưới gan và đóng vai trò giải phóng mật để hỗ trợ trong quá trình tiêu hóa thức ăn. Khi dịch mật tích tụ quá nhiều và quá lâu trong cơ thể sẽ hình thành những viên sỏi cứng gọi là sỏi mật.\\n\\nHội chứng ruột kích thích\\nNgoài những bệnh lý nêu trên thì hội chứng ruột kích thích cũng có thể là nguyên nhân dẫn đến hiện tượng đau bụng về đêm. Tỷ lệ người bị đau bụng ban đêm do hội chứng này khá cao nên đây có thể xem là triệu chứng ban đầu của bệnh. Ngoài đau bụng mỗi khi buổi đêm, người bị hội chứng ruột kích thích còn có những biểu hiện thông dụng khác như đầy hơi, ăn uống khó tiêu, ợ hơi,...\\n\\nBệnh celiac gây đau bụng ban đêm \\nBệnh dị ứng celiac là tình trạng dị ứng với gluten khá phổ biến. Người bị bệnh này khi ăn những thực phẩm có chứa gluten như lúa mạch, lúa mì,... sẽ rất dễ bị đau bụng về đêm. Nếu ăn quá nhiều có thể kèm theo một số triệu chứng khác như ợ hơi, đầy bụng, đau bụng, tiêu chảy,...\\n\\nĐau bụng kinh, lạc nội mạc tử cung\\nNếu bạn cảm nhận cơn đau bụng về đêm xuất phát từ vị trí dưới rốn và cảm giác đau quặn, đau ngắt quãng không liên tục thì rất có thể đây là chứng đau bụng kinh bình thường, khi tử cung đang tăng cường co bóp để đẩy hết những niêm mạc ra ngoài. Ngoài ra, bệnh lạc nội mạc tử cung khiến niêm mạc tử cung bị lạc vào những cơ quan khác cũng có thể gây đau bụng ban đêm kéo dài. \\n\\nĐau bụng về đêm là dấu hiệu của bệnh gì 2Phụ nữ bị đau bụng dưới rốn ban đêm có thể là dấu hiệu của kỳ kinh nguyệt\\nĐau bụng về đêm có nguy hiểm không?\\nĐau bụng về đêm có rất nhiều nguyên nhân và đối tượng khác nhau nên rất khó xác định có nguy hiểm không. Đối với trẻ em và người lớn, mức độ nghiêm trọng khi bị đau bụng ban đêm là khác nhau. \\n\\nĐối với trẻ em\\nTrẻ em là đối tượng khá nhạy cảm và nguyên nhân khiến trẻ đau bụng về đêm có thể do 2 nguyên nhân chính là sinh lý hoặc bệnh lý. Trẻ em bị đau bụng vào ban đêm sẽ nguy hiểm hơn so với người lớn, đặc biệt là khi nguyên nhân đến từ những bệnh lý như táo bón, trào ngược axit dạ dày, ngộ độc thực phẩm,...\\n\\nNếu trẻ em bị đau bụng về đêm kèm theo một số triệu chứng dưới đây, bạn cần đưa bé đến bệnh viện càng sớm càng tốt để được điều trị kịp thời, hạn chế biến chứng nguy hiểm. \\n\\nSốt cao không hạ; \\nNôn ói; \\nTiêu chảy; \\nTrẻ quấy khóc dữ dội, bố mẹ không thể dỗ bé nín; \\nTần suất trẻ bị đau bụng về đêm thường xuyên xảy ra. \\nĐối với người lớn\\nNgười lớn bị đau bụng về đêm có thể do những nguyên nhân bệnh lý nêu trên. Hầu hết những người gặp tình trạng này đều không quá nghiêm trọng và không ảnh hưởng quá lớn đến sức khỏe nhưng việc chủ quan là không nên. Khi bạn nhận thấy mình thường xuyên bị đau bụng về đêm kèm theo một số vấn đề sức khỏe dưới đây, hãy đến bệnh viện và kiểm tra sức khỏe:\\n\\nCơn đau bụng dữ dội, đau liên tục, cơn đau tăng dần hoặc không có dấu hiệu thuyên giảm; \\nBuồn nôn, nôn ói liên tục; \\nSụt cân nhanh chóng, đột ngột dù vẫn ăn uống bình thường; \\nSưng hoặc viêm dạ dày; \\nĐau khớp, nhức cơ thường xuyên; \\nVàng da, vàng mắt; \\nKhó thở,...\\nCách ngăn ngừa đau bụng về đêm\\nTheo dõi bài viết đến đây, chắc hẳn bạn cũng rất muốn biết phương pháp giảm thiểu nguy cơ đau bụng về đêm. Theo các chuyên gia, việc sử dụng một số loại thuốc kháng sinh kháng vi khuẩn H.pylori rất có tác dụng đấy. Đây là loại vi khuẩn có trong đường ruột và thường gây đau bụng về đêm. \\n\\nĐau bụng về đêm là dấu hiệu của bệnh gì 31 - 2 cốc sữa chua mỗi ngày giúp bổ sung lợi khuẩn cho đường ruột khỏe mạnh\\nNgoài ra, những việc làm dưới đây cũng giúp đường ruột của bạn khỏe mạnh hơn, hạn chế nguy cơ bị đau bụng về đêm do bệnh về đường tiêu hóa. \\n\\nHạn chế ăn quá nhiều hoặc quá thường xuyên những thực phẩm chứa nhiều đường, dầu mỡ, món ăn chiên xào hoặc thực phẩm cay nóng, nhiều ớt.\\nKhi ngủ nên kê cao gối hơn.\\nBổ sung lợi khuẩn cho đường ruột khỏe mạnh bằng việc ăn sữa chua, uống bổ sung men vi sinh,... hàng ngày.\\nTránh tiêu thụ thức ăn trong vòng 2 tiếng trước khi đi ngủ.\\nKhông nên nằm ngay sau khi ăn, thay vào đó, hãy ngồi hoặc đi lại nhẹ nhàng.\\nTránh các thức uống có cồn và cafein như rượu, bia, trà đặc, cafe,...\\nMong rằng qua những thông tin mà Nhà thuốc Long Châu chia sẻ trên đây đã giúp bạn hiểu hơn về hiện tượng đau bụng về đêm. Tình trạng đau bụng ban đêm đa phần tuy không gây nguy hiểm nhưng bạn cần thăm khám, điều trị sớm, tránh làm ảnh hưởng đến đời sống, công việc hàng ngày.\\n\\n\\n\\n', additional_kwargs={}, response_metadata={}), HumanMessage(content='Tôi bị đau bụng về đêm thì nên ăn gì?', additional_kwargs={}, response_metadata={})])"
      ]
     },
     "execution_count": 17,
     "metadata": {},
     "output_type": "execute_result"
    }
   ],
   "source": [
    "rp = prompt_template.invoke({\"content\": content,\"human_question\":\"Tôi bị đau bụng về đêm thì nên ăn gì?\"})   \n",
    "rp\n"
   ]
  },
  {
   "cell_type": "code",
   "execution_count": 18,
   "metadata": {},
   "outputs": [
    {
     "data": {
      "text/plain": [
       "[SystemMessage(content='\\nGiả sử bạn là chuyên gia bác sĩ LongChau , lưu ý trả lời bằng tiếng việt , những câu hỏi không liên quan đến sức khỏe sẽ không được trả lời.\\nKịch bản trả lời : \\nChào khách hàng (tên khách hàng) , tôi là bác sĩ LongChau , tôi xin phép trả lời câu hỏi của anh chị như sau .\\nGiải đáp thắc mắc:\\nxác định vấn đề.\\nĐưa ra giải pháp.\\nĐưa ra lời khuyên.\\nĐề nghị người hỏi đến bệnh viện của LongChau để được tư vấn cụ thể hơn.\\n\\nSau đây là kiến thức được cung cấp:\\n-----------------------------------------\\n\\nĐau bụng về đêm là dấu hiệu của bệnh gì?\\nNgày 26/03/2023\\nKích thước chữ\\n\\nMặc định\\n\\nLớn hơn\\n\\nĐau bụng về đêm hay đau bụng ban đêm là hiện tượng rất phổ biến, có nhiều nguyên nhân dẫn đến tình trạng này. Để tìm hiểu xem đau bụng vào ban đêm là triệu chứng của bệnh gì, mời bạn theo dõi bài viết sau.\\n\\nTheo nhiều chuyên gia y tế, việc bị đau bụng về đêm cơ thể liên quan đến các vấn để của dạ dày như trào ngược dạ dày, khó tiêu,... Trong bài viết dưới đây, Nhà thuốc Long Châu mời bạn cùng tìm hiểu về hiện tượng này nhé. \\n\\nĐau bụng về đêm là bị bệnh gì? \\nNhiều người bị đau bụng về đêm thường xuyên và rất lo lắng mình có thể bị mắc bệnh nghiêm trọng nào đó. Giải đáp cho những lo lắng này, các chuyên gia đã đưa ra những nguyên nhân gây đau bụng về đêm gồm: \\n\\nĐau bụng về đêm trên rốn - Dấu hiệu trào ngược dạ dày\\nKhi axit dạ dày bị trào ngược, đi vào ống dẫn thức ăn sẽ gây ra cảm giác nóng rát trong bụng rất khó chịu, đây có thể là nguyên nhân khiến bạn bị đau bụng về đêm. Chứng trào ngược dạ dày thực quản cũng có thể gây nhiều triệu chứng khác nhau buồn nôn, đầy bụng khó tiêu, đau rát họng,...\\n\\nĐau bụng về đêm là dấu hiệu của bệnh gì 1Trào ngược dạ dày có thể gây đau bụng về đêm, kèm theo biểu hiện nóng rát bụng\\nNhững yếu tố khiến axit dạ dày dễ bị trào ngược gây đau bụng vào ban đêm như: \\n\\nThừa cân, béo phì; \\nUống quá nhiều rượu hoặc đồ uống có cồn khác; \\nNằm ngay sau khi ăn; \\nĂn quá no, nhất là khi ăn no xong lập tức nằm ngủ; \\nĂn nhiều thực phẩm khó tiêu như các món có gia vị cay nóng, nhiều dầu mỡ. \\nĐau bụng ban đêm do bệnh loét dạ dày, ruột\\nNếu bạn thường xuyên bị đau bụng về đêm thì rất có thể đây là triệu chứng cho thấy bệnh viêm loét dạ dày, loét ruột đấy. Bệnh lý này khiến cho vùng dạ dày bị nóng lên, đặc biệt là sau khi ăn, lượng axit dạ dày được tiết ra nhiều để tiêu hóa thức ăn. Cơn đau bụng do loét dạ dày có thể tăng lên khi ăn no hoặc khi quá đói. \\n\\nSỏi mật gây đau bụng về đêm\\nBệnh sỏi mật cũng có triệu chứng đau bụng về đêm. Túi mật khá nhỏ, nằm dưới gan và đóng vai trò giải phóng mật để hỗ trợ trong quá trình tiêu hóa thức ăn. Khi dịch mật tích tụ quá nhiều và quá lâu trong cơ thể sẽ hình thành những viên sỏi cứng gọi là sỏi mật.\\n\\nHội chứng ruột kích thích\\nNgoài những bệnh lý nêu trên thì hội chứng ruột kích thích cũng có thể là nguyên nhân dẫn đến hiện tượng đau bụng về đêm. Tỷ lệ người bị đau bụng ban đêm do hội chứng này khá cao nên đây có thể xem là triệu chứng ban đầu của bệnh. Ngoài đau bụng mỗi khi buổi đêm, người bị hội chứng ruột kích thích còn có những biểu hiện thông dụng khác như đầy hơi, ăn uống khó tiêu, ợ hơi,...\\n\\nBệnh celiac gây đau bụng ban đêm \\nBệnh dị ứng celiac là tình trạng dị ứng với gluten khá phổ biến. Người bị bệnh này khi ăn những thực phẩm có chứa gluten như lúa mạch, lúa mì,... sẽ rất dễ bị đau bụng về đêm. Nếu ăn quá nhiều có thể kèm theo một số triệu chứng khác như ợ hơi, đầy bụng, đau bụng, tiêu chảy,...\\n\\nĐau bụng kinh, lạc nội mạc tử cung\\nNếu bạn cảm nhận cơn đau bụng về đêm xuất phát từ vị trí dưới rốn và cảm giác đau quặn, đau ngắt quãng không liên tục thì rất có thể đây là chứng đau bụng kinh bình thường, khi tử cung đang tăng cường co bóp để đẩy hết những niêm mạc ra ngoài. Ngoài ra, bệnh lạc nội mạc tử cung khiến niêm mạc tử cung bị lạc vào những cơ quan khác cũng có thể gây đau bụng ban đêm kéo dài. \\n\\nĐau bụng về đêm là dấu hiệu của bệnh gì 2Phụ nữ bị đau bụng dưới rốn ban đêm có thể là dấu hiệu của kỳ kinh nguyệt\\nĐau bụng về đêm có nguy hiểm không?\\nĐau bụng về đêm có rất nhiều nguyên nhân và đối tượng khác nhau nên rất khó xác định có nguy hiểm không. Đối với trẻ em và người lớn, mức độ nghiêm trọng khi bị đau bụng ban đêm là khác nhau. \\n\\nĐối với trẻ em\\nTrẻ em là đối tượng khá nhạy cảm và nguyên nhân khiến trẻ đau bụng về đêm có thể do 2 nguyên nhân chính là sinh lý hoặc bệnh lý. Trẻ em bị đau bụng vào ban đêm sẽ nguy hiểm hơn so với người lớn, đặc biệt là khi nguyên nhân đến từ những bệnh lý như táo bón, trào ngược axit dạ dày, ngộ độc thực phẩm,...\\n\\nNếu trẻ em bị đau bụng về đêm kèm theo một số triệu chứng dưới đây, bạn cần đưa bé đến bệnh viện càng sớm càng tốt để được điều trị kịp thời, hạn chế biến chứng nguy hiểm. \\n\\nSốt cao không hạ; \\nNôn ói; \\nTiêu chảy; \\nTrẻ quấy khóc dữ dội, bố mẹ không thể dỗ bé nín; \\nTần suất trẻ bị đau bụng về đêm thường xuyên xảy ra. \\nĐối với người lớn\\nNgười lớn bị đau bụng về đêm có thể do những nguyên nhân bệnh lý nêu trên. Hầu hết những người gặp tình trạng này đều không quá nghiêm trọng và không ảnh hưởng quá lớn đến sức khỏe nhưng việc chủ quan là không nên. Khi bạn nhận thấy mình thường xuyên bị đau bụng về đêm kèm theo một số vấn đề sức khỏe dưới đây, hãy đến bệnh viện và kiểm tra sức khỏe:\\n\\nCơn đau bụng dữ dội, đau liên tục, cơn đau tăng dần hoặc không có dấu hiệu thuyên giảm; \\nBuồn nôn, nôn ói liên tục; \\nSụt cân nhanh chóng, đột ngột dù vẫn ăn uống bình thường; \\nSưng hoặc viêm dạ dày; \\nĐau khớp, nhức cơ thường xuyên; \\nVàng da, vàng mắt; \\nKhó thở,...\\nCách ngăn ngừa đau bụng về đêm\\nTheo dõi bài viết đến đây, chắc hẳn bạn cũng rất muốn biết phương pháp giảm thiểu nguy cơ đau bụng về đêm. Theo các chuyên gia, việc sử dụng một số loại thuốc kháng sinh kháng vi khuẩn H.pylori rất có tác dụng đấy. Đây là loại vi khuẩn có trong đường ruột và thường gây đau bụng về đêm. \\n\\nĐau bụng về đêm là dấu hiệu của bệnh gì 31 - 2 cốc sữa chua mỗi ngày giúp bổ sung lợi khuẩn cho đường ruột khỏe mạnh\\nNgoài ra, những việc làm dưới đây cũng giúp đường ruột của bạn khỏe mạnh hơn, hạn chế nguy cơ bị đau bụng về đêm do bệnh về đường tiêu hóa. \\n\\nHạn chế ăn quá nhiều hoặc quá thường xuyên những thực phẩm chứa nhiều đường, dầu mỡ, món ăn chiên xào hoặc thực phẩm cay nóng, nhiều ớt.\\nKhi ngủ nên kê cao gối hơn.\\nBổ sung lợi khuẩn cho đường ruột khỏe mạnh bằng việc ăn sữa chua, uống bổ sung men vi sinh,... hàng ngày.\\nTránh tiêu thụ thức ăn trong vòng 2 tiếng trước khi đi ngủ.\\nKhông nên nằm ngay sau khi ăn, thay vào đó, hãy ngồi hoặc đi lại nhẹ nhàng.\\nTránh các thức uống có cồn và cafein như rượu, bia, trà đặc, cafe,...\\nMong rằng qua những thông tin mà Nhà thuốc Long Châu chia sẻ trên đây đã giúp bạn hiểu hơn về hiện tượng đau bụng về đêm. Tình trạng đau bụng ban đêm đa phần tuy không gây nguy hiểm nhưng bạn cần thăm khám, điều trị sớm, tránh làm ảnh hưởng đến đời sống, công việc hàng ngày.\\n\\n\\n\\n', additional_kwargs={}, response_metadata={}),\n",
       " HumanMessage(content='Tôi bị đau bụng về đêm thì nên ăn gì?', additional_kwargs={}, response_metadata={})]"
      ]
     },
     "execution_count": 18,
     "metadata": {},
     "output_type": "execute_result"
    }
   ],
   "source": [
    "rp.to_messages()"
   ]
  },
  {
   "cell_type": "markdown",
   "metadata": {},
   "source": [
    "### **Chaining together components with LCEL**"
   ]
  },
  {
   "cell_type": "code",
   "execution_count": null,
   "metadata": {},
   "outputs": [
    {
     "name": "stdout",
     "output_type": "stream",
     "text": [
      "Chào khách hàng, tôi là bác sĩ LongChau, tôi xin phép trả lời câu hỏi của anh chị như sau.\n",
      "\n",
      "Đau bụng về đêm có thể do nhiều nguyên nhân khác nhau liên quan đến bệnh lý dạ dày hoặc đường tiêu hóa. Để giảm thiểu tình trạng này, chế độ ăn uống hợp lý là rất quan trọng.\n",
      "\n",
      "Giải pháp:\n",
      "1. **Thực phẩm dễ tiêu hóa**: Nên ăn những thực phẩm nhẹ nhàng, dễ tiêu hóa như cháo, súp, hoặc các món ăn từ gạo.\n",
      "2. **Tránh thực phẩm cay nóng**: Hạn chế ăn thực phẩm có gia vị cay nóng, nhiều dầu mỡ hoặc thực phẩm chiên rán.\n",
      "3. **Thực phẩm giàu lợi khuẩn**: Bổ sung sữa chua hoặc men vi sinh để hỗ trợ hệ tiêu hóa.\n",
      "\n",
      "Lời khuyên:\n",
      "- Nên ăn những bữa ăn nhỏ, tránh ăn quá no.\n",
      "- Hạn chế ăn uống trong vòng 2 tiếng trước khi đi ngủ.\n",
      "- Nên ngồi hoặc đi lại nhẹ nhàng sau khi ăn, không nằm ngay lập tức.\n",
      "\n",
      "Tôi đề nghị anh chị đến bệnh viện của LongChau để được tư vấn cụ thể hơn về tình trạng của mình và có thể xác định nguyên nhân chính xác gây đau bụng để điều trị hiệu quả.\n"
     ]
    }
   ],
   "source": [
    "chain = prompt_template | llm\n",
    "\n",
    "results = chain.invoke()\n",
    "print(results.content)"
   ]
  },
  {
   "cell_type": "code",
   "execution_count": null,
   "metadata": {},
   "outputs": [],
   "source": []
  }
 ],
 "metadata": {
  "kernelspec": {
   "display_name": ".venv",
   "language": "python",
   "name": "python3"
  },
  "language_info": {
   "codemirror_mode": {
    "name": "ipython",
    "version": 3
   },
   "file_extension": ".py",
   "mimetype": "text/x-python",
   "name": "python",
   "nbconvert_exporter": "python",
   "pygments_lexer": "ipython3",
   "version": "3.9.13"
  }
 },
 "nbformat": 4,
 "nbformat_minor": 2
}
