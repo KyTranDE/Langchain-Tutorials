{
 "cells": [
  {
   "cell_type": "markdown",
   "metadata": {},
   "source": [
    "### **Quickstart**"
   ]
  },
  {
   "cell_type": "code",
   "execution_count": 1,
   "metadata": {},
   "outputs": [],
   "source": [
    "import os \n",
    "from dotenv import load_dotenv\n",
    "load_dotenv()\n",
    "\n",
    "api_key = os.environ[\"OPENAI_API_KEY\"]"
   ]
  },
  {
   "cell_type": "code",
   "execution_count": 2,
   "metadata": {},
   "outputs": [],
   "source": [
    "from langchain_openai import ChatOpenAI\n",
    "\n",
    "llm = ChatOpenAI(model=\"gpt-4o-mini\", api_key=api_key)"
   ]
  },
  {
   "cell_type": "code",
   "execution_count": 3,
   "metadata": {},
   "outputs": [
    {
     "data": {
      "text/plain": [
       "AIMessage(content='Chào bạn, kytranmoi! Bạn có muốn hỏi hay chia sẻ điều gì không?', additional_kwargs={'refusal': None}, response_metadata={'token_usage': {'completion_tokens': 20, 'prompt_tokens': 16, 'total_tokens': 36, 'completion_tokens_details': {'accepted_prediction_tokens': 0, 'audio_tokens': 0, 'reasoning_tokens': 0, 'rejected_prediction_tokens': 0}, 'prompt_tokens_details': {'audio_tokens': 0, 'cached_tokens': 0}}, 'model_name': 'gpt-4o-mini-2024-07-18', 'system_fingerprint': 'fp_0ba0d124f1', 'finish_reason': 'stop', 'logprobs': None}, id='run-f6124c69-2ca4-4791-be13-56d6c6a6342b-0', usage_metadata={'input_tokens': 16, 'output_tokens': 20, 'total_tokens': 36, 'input_token_details': {'audio': 0, 'cache_read': 0}, 'output_token_details': {'audio': 0, 'reasoning': 0}})"
      ]
     },
     "execution_count": 3,
     "metadata": {},
     "output_type": "execute_result"
    }
   ],
   "source": [
    "from langchain_core.messages import HumanMessage\n",
    "\n",
    "llm.invoke([HumanMessage(\"Chào , tôi là kytranmoi\")])\n"
   ]
  },
  {
   "cell_type": "code",
   "execution_count": 4,
   "metadata": {},
   "outputs": [
    {
     "data": {
      "text/plain": [
       "AIMessage(content='Xin lỗi, nhưng tôi không biết tên của bạn. Bạn có thể cho tôi biết tên của bạn được không?', additional_kwargs={'refusal': None}, response_metadata={'token_usage': {'completion_tokens': 23, 'prompt_tokens': 12, 'total_tokens': 35, 'completion_tokens_details': {'accepted_prediction_tokens': 0, 'audio_tokens': 0, 'reasoning_tokens': 0, 'rejected_prediction_tokens': 0}, 'prompt_tokens_details': {'audio_tokens': 0, 'cached_tokens': 0}}, 'model_name': 'gpt-4o-mini-2024-07-18', 'system_fingerprint': 'fp_0ba0d124f1', 'finish_reason': 'stop', 'logprobs': None}, id='run-88b4e4e6-f689-4b78-b72a-186c6b0e7d1c-0', usage_metadata={'input_tokens': 12, 'output_tokens': 23, 'total_tokens': 35, 'input_token_details': {'audio': 0, 'cache_read': 0}, 'output_token_details': {'audio': 0, 'reasoning': 0}})"
      ]
     },
     "execution_count": 4,
     "metadata": {},
     "output_type": "execute_result"
    }
   ],
   "source": [
    "llm.invoke([HumanMessage(\"Tên tôi là gì ?\")])"
   ]
  },
  {
   "cell_type": "markdown",
   "metadata": {},
   "source": [
    "- Thì như ví dụ ở trên chúng ta thấy nó không hiểu được lịch sử của cuộc trò chuyện.\n",
    "    -   Điều này thật là tệ hại với một con chatbot trong nó không khác gì so với việc tự đi search google.\n",
    "- Để giải quyết vấn đề này chúng ta cần truyền vô toàn bộ lịch sử của cuộc trò chuyện."
   ]
  },
  {
   "cell_type": "code",
   "execution_count": 5,
   "metadata": {},
   "outputs": [
    {
     "data": {
      "text/plain": [
       "AIMessage(content='Bạn là kytranmoi! Tuy nhiên, tôi không có thông tin cụ thể về bạn. Nếu bạn muốn chia sẻ thêm về bản thân, tôi rất vui được lắng nghe!', additional_kwargs={'refusal': None}, response_metadata={'token_usage': {'completion_tokens': 38, 'prompt_tokens': 49, 'total_tokens': 87, 'completion_tokens_details': {'accepted_prediction_tokens': 0, 'audio_tokens': 0, 'reasoning_tokens': 0, 'rejected_prediction_tokens': 0}, 'prompt_tokens_details': {'audio_tokens': 0, 'cached_tokens': 0}}, 'model_name': 'gpt-4o-mini-2024-07-18', 'system_fingerprint': 'fp_0ba0d124f1', 'finish_reason': 'stop', 'logprobs': None}, id='run-c0a89fac-95d8-4f7a-a3d9-7212252d73db-0', usage_metadata={'input_tokens': 49, 'output_tokens': 38, 'total_tokens': 87, 'input_token_details': {'audio': 0, 'cache_read': 0}, 'output_token_details': {'audio': 0, 'reasoning': 0}})"
      ]
     },
     "execution_count": 5,
     "metadata": {},
     "output_type": "execute_result"
    }
   ],
   "source": [
    "from langchain_core.messages import AIMessage\n",
    "\n",
    "llm.invoke(\n",
    "    [\n",
    "        HumanMessage(\"Chào , tôi là kytranmoi\"),\n",
    "        AIMessage(\"Chào bạn, kytranmoi! Bạn có muốn hỏi hay chia sẻ điều gì không?\"),\n",
    "        HumanMessage(\"Tôi là ai ?\"),\n",
    "    ]\n",
    ")"
   ]
  },
  {
   "cell_type": "markdown",
   "metadata": {},
   "source": [
    "- Như vậy nó đã có thể phản hồi dựa trên lịch sử cũ của cuộc trò truyện.\n",
    "- Đây là ý tưởng cơ bản để hỗ trợ khả nawg=ng tương tác đàm thoại của Chatbot. Vậy làm thế nào để triển khai điều này tốt nhất?"
   ]
  },
  {
   "cell_type": "markdown",
   "metadata": {},
   "source": [
    "### **Message persistence**"
   ]
  },
  {
   "cell_type": "markdown",
   "metadata": {},
   "source": [
    "- LangGraph triển khai lớp duy trì tích hợp, khiến nó trở nên lý tưởng cho các ứng dụng trò chuyện hỗ trợ nhiều lượt trò chuyện.\n",
    "- Việc gói mô hình trò chuyện của chúng tôi trong ứng dụng LangGraph tối giản cho phép chúng tôi tự động lưu lại lịch sử tin nhắn, giúp đơn giản hóa quá trình phát triền các ứng dụng nhiều bước.\n",
    "- LangGraph đi kèm với một checkpointer trong bộ nhớ đơn giản, chúng tôi sử dụng bên dưới."
   ]
  },
  {
   "cell_type": "code",
   "execution_count": 11,
   "metadata": {},
   "outputs": [],
   "source": [
    "from langgraph.checkpoint.memory import MemorySaver\n",
    "from langgraph.graph import START, MessagesState, StateGraph\n",
    "\n",
    "workflow = StateGraph(state_schema=MessagesState)\n",
    "\n",
    "def call_model(state: MessagesState):\n",
    "    response = llm.invoke(state['messages'])\n",
    "    return {\"messages\": response}\n",
    "\n",
    "workflow.add_edge(START, \"llm\")\n",
    "workflow.add_node(\"llm\", call_model)\n",
    "\n",
    "memory = MemorySaver()\n",
    "app = workflow.compile(checkpointer=memory)\n"
   ]
  },
  {
   "cell_type": "markdown",
   "metadata": {},
   "source": [
    "- Bây giờ chúng ta cần tạo một configmà chúng ta truyền vào runnable mọi lúc. Cấu hình này chứa thông tin không phải là một phần của đầu vào trực tiếp, nhưng vẫn hữu ích. Trong trường hợp này, chúng ta muốn bao gồm một thread_id. Nó sẽ trông như thế này:"
   ]
  },
  {
   "cell_type": "code",
   "execution_count": 12,
   "metadata": {},
   "outputs": [],
   "source": [
    "config = {\"configurable\": {\"thread_id\": \"abc123\"}}"
   ]
  },
  {
   "cell_type": "markdown",
   "metadata": {},
   "source": [
    "- Điều này cho phép chúng tôi hỗ trợ nhiều luồng hội thoại với một ứng dụng duy nhất, một yêu cầu phổ biến khi ứng dụng của bạn có nhiều người dùng."
   ]
  },
  {
   "cell_type": "code",
   "execution_count": 13,
   "metadata": {},
   "outputs": [
    {
     "name": "stdout",
     "output_type": "stream",
     "text": [
      "==================================\u001b[1m Ai Message \u001b[0m==================================\n",
      "\n",
      "Chào bạn, kytranmoi! Rất vui được gặp bạn. Bạn cần giúp gì hôm nay?\n"
     ]
    }
   ],
   "source": [
    "query = \"\"\"\n",
    "Chào , tôi là kytranmoi\n",
    "\"\"\"\n",
    "input_message = [HumanMessage(query)]\n",
    "output = app.invoke({\"messages\":input_message}, config=config)\n",
    "output['messages'][-1].pretty_print()"
   ]
  },
  {
   "cell_type": "code",
   "execution_count": 18,
   "metadata": {},
   "outputs": [
    {
     "name": "stdout",
     "output_type": "stream",
     "text": [
      "==================================\u001b[1m Ai Message \u001b[0m==================================\n",
      "\n",
      "Tên bạn là kytranmoi. Nếu bạn cần tôi giúp gì khác, hãy cho tôi biết nhé!\n"
     ]
    }
   ],
   "source": [
    "query = \"Tên tôi là gì ?\"\n",
    "\n",
    "input_messages = [HumanMessage(query)]\n",
    "output = app.invoke({\"messages\": input_messages}, config)\n",
    "output[\"messages\"][-1].pretty_print()"
   ]
  },
  {
   "cell_type": "markdown",
   "metadata": {},
   "source": [
    "- Tuyệt! Chatbot của chúng tôi hiện ghi nhớ mọi thứ về chúng tôi. Nếu chúng tôi thay đổi cấu hình để tham chiếu đến một thread_id, chúng tôi có thể thấy rằng nó bắt đầu cuộc trò chuyện mới."
   ]
  },
  {
   "cell_type": "code",
   "execution_count": 19,
   "metadata": {},
   "outputs": [
    {
     "name": "stdout",
     "output_type": "stream",
     "text": [
      "==================================\u001b[1m Ai Message \u001b[0m==================================\n",
      "\n",
      "Xin lỗi, nhưng tôi không biết tên của bạn. Bạn có muốn chia sẻ tên của mình không?\n"
     ]
    }
   ],
   "source": [
    "config = {\"configurable\": {\"thread_id\": \"abc234\"}}\n",
    "\n",
    "input_messages = [HumanMessage(query)]\n",
    "output = app.invoke({\"messages\": input_messages}, config)\n",
    "output[\"messages\"][-1].pretty_print()"
   ]
  },
  {
   "cell_type": "code",
   "execution_count": 20,
   "metadata": {},
   "outputs": [
    {
     "name": "stdout",
     "output_type": "stream",
     "text": [
      "==================================\u001b[1m Ai Message \u001b[0m==================================\n",
      "\n",
      "Tên bạn là kytranmoi. Nếu bạn có câu hỏi nào khác hoặc cần trợ giúp, hãy cho tôi biết!\n"
     ]
    }
   ],
   "source": [
    "config = {\"configurable\": {\"thread_id\": \"abc123\"}}\n",
    "\n",
    "input_messages = [HumanMessage(query)]\n",
    "output = app.invoke({\"messages\": input_messages}, config)\n",
    "output[\"messages\"][-1].pretty_print()"
   ]
  },
  {
   "cell_type": "markdown",
   "metadata": {},
   "source": [
    "- Đây là cách chúng ta có thể hỗ trợ chatbot trò chuyện với nhiều người dùng!"
   ]
  },
  {
   "cell_type": "markdown",
   "metadata": {},
   "source": [
    "**Mẹo**\n",
    "- Để hỗ trợ bất đồng bộ, hãy cập nhật call_modelnút thành hàm bất đồng bộ và sử dụng .ainvoke khi gọi ứng dụng:"
   ]
  },
  {
   "cell_type": "code",
   "execution_count": 29,
   "metadata": {},
   "outputs": [
    {
     "name": "stdout",
     "output_type": "stream",
     "text": [
      "================================\u001b[1m Human Message \u001b[0m=================================\n",
      "\n",
      "chào\n",
      "==================================\u001b[1m Ai Message \u001b[0m==================================\n",
      "\n",
      "Chào bạn! Bạn cần giúp gì hôm nay?\n",
      "================================\u001b[1m Human Message \u001b[0m=================================\n",
      "\n",
      "chào\n",
      "==================================\u001b[1m Ai Message \u001b[0m==================================\n",
      "\n",
      "Chào bạn! Bạn cần giúp gì hôm nay?\n",
      "================================\u001b[1m Human Message \u001b[0m=================================\n",
      "\n",
      "tôi là kỳ trần moi đẹp trai tài năng mỗi tội bị người yêu đá\n",
      "==================================\u001b[1m Ai Message \u001b[0m==================================\n",
      "\n",
      "Chào Kỳ Trần! Rất vui được gặp bạn. Mặc dù bị người yêu đá là một điều không dễ chịu, nhưng hãy nhớ rằng mọi chuyện rồi sẽ qua. Bạn có thể chia sẻ thêm về cảm xúc của mình không? Hoặc nếu bạn cần lời khuyên để vượt qua giai đoạn này, mình rất sẵn lòng giúp!\n",
      "================================\u001b[1m Human Message \u001b[0m=================================\n",
      "\n",
      "chào\n",
      "==================================\u001b[1m Ai Message \u001b[0m==================================\n",
      "\n",
      "Chào bạn! Bạn cần giúp gì hôm nay?\n",
      "================================\u001b[1m Human Message \u001b[0m=================================\n",
      "\n",
      "tôi là kỳ trần moi đẹp trai tài năng mỗi tội bị người yêu đá\n",
      "==================================\u001b[1m Ai Message \u001b[0m==================================\n",
      "\n",
      "Chào Kỳ Trần! Rất vui được gặp bạn. Mặc dù bị người yêu đá là một điều không dễ chịu, nhưng hãy nhớ rằng mọi chuyện rồi sẽ qua. Bạn có thể chia sẻ thêm về cảm xúc của mình không? Hoặc nếu bạn cần lời khuyên để vượt qua giai đoạn này, mình rất sẵn lòng giúp!\n",
      "================================\u001b[1m Human Message \u001b[0m=================================\n",
      "\n",
      "tôi nên làm gì để xả stress đây\n",
      "==================================\u001b[1m Ai Message \u001b[0m==================================\n",
      "\n",
      "Có nhiều cách để xả stress, và bạn có thể thử một số phương pháp sau:\n",
      "\n",
      "1. **Tập thể dục**: Vận động giúp giải phóng endorphins, giúp cải thiện tâm trạng. Bạn có thể đi bộ, chạy, tập yoga hoặc tham gia một lớp thể dục nào đó.\n",
      "\n",
      "2. **Nghe nhạc**: Âm nhạc có thể giúp bạn thư giãn và cải thiện tâm trạng. Hãy nghe những bài hát yêu thích hoặc những bản nhạc nhẹ nhàng.\n",
      "\n",
      "3. **Thiền hoặc hít thở sâu**: Dành vài phút để thiền hoặc thực hiện bài tập hít thở sâu để giúp tâm trí bạn bình tĩnh hơn.\n",
      "\n",
      "4. **Sáng tạo**: Tham gia vào các hoạt động sáng tạo như vẽ, viết lách, hay làm đồ thủ công có thể giúp bạn giải tỏa cảm xúc.\n",
      "\n",
      "5. **Gặp gỡ bạn bè**: Dành thời gian bên những người mà bạn yêu quý, trò chuyện và chia sẻ có thể giúp bạn cảm thấy thoải mái hơn.\n",
      "\n",
      "6. **Thử một sở thích mới**: Khám phá một sở thích mới có thể giúp bạn quên đi những lo âu và tìm thấy niềm vui.\n",
      "\n",
      "7. **Tắm nước ấm**: Một bồn tắm ấm có thể giúp thư giãn cơ thể và tâm trí.\n",
      "\n",
      "Hãy thử một vài cách và xem cái nào phù hợp nhất với bạn nhé!\n",
      "================================\u001b[1m Human Message \u001b[0m=================================\n",
      "\n",
      "chào\n",
      "==================================\u001b[1m Ai Message \u001b[0m==================================\n",
      "\n",
      "Chào bạn! Bạn cần giúp gì hôm nay?\n",
      "================================\u001b[1m Human Message \u001b[0m=================================\n",
      "\n",
      "tôi là kỳ trần moi đẹp trai tài năng mỗi tội bị người yêu đá\n",
      "==================================\u001b[1m Ai Message \u001b[0m==================================\n",
      "\n",
      "Chào Kỳ Trần! Rất vui được gặp bạn. Mặc dù bị người yêu đá là một điều không dễ chịu, nhưng hãy nhớ rằng mọi chuyện rồi sẽ qua. Bạn có thể chia sẻ thêm về cảm xúc của mình không? Hoặc nếu bạn cần lời khuyên để vượt qua giai đoạn này, mình rất sẵn lòng giúp!\n",
      "================================\u001b[1m Human Message \u001b[0m=================================\n",
      "\n",
      "tôi nên làm gì để xả stress đây\n",
      "==================================\u001b[1m Ai Message \u001b[0m==================================\n",
      "\n",
      "Có nhiều cách để xả stress, và bạn có thể thử một số phương pháp sau:\n",
      "\n",
      "1. **Tập thể dục**: Vận động giúp giải phóng endorphins, giúp cải thiện tâm trạng. Bạn có thể đi bộ, chạy, tập yoga hoặc tham gia một lớp thể dục nào đó.\n",
      "\n",
      "2. **Nghe nhạc**: Âm nhạc có thể giúp bạn thư giãn và cải thiện tâm trạng. Hãy nghe những bài hát yêu thích hoặc những bản nhạc nhẹ nhàng.\n",
      "\n",
      "3. **Thiền hoặc hít thở sâu**: Dành vài phút để thiền hoặc thực hiện bài tập hít thở sâu để giúp tâm trí bạn bình tĩnh hơn.\n",
      "\n",
      "4. **Sáng tạo**: Tham gia vào các hoạt động sáng tạo như vẽ, viết lách, hay làm đồ thủ công có thể giúp bạn giải tỏa cảm xúc.\n",
      "\n",
      "5. **Gặp gỡ bạn bè**: Dành thời gian bên những người mà bạn yêu quý, trò chuyện và chia sẻ có thể giúp bạn cảm thấy thoải mái hơn.\n",
      "\n",
      "6. **Thử một sở thích mới**: Khám phá một sở thích mới có thể giúp bạn quên đi những lo âu và tìm thấy niềm vui.\n",
      "\n",
      "7. **Tắm nước ấm**: Một bồn tắm ấm có thể giúp thư giãn cơ thể và tâm trí.\n",
      "\n",
      "Hãy thử một vài cách và xem cái nào phù hợp nhất với bạn nhé!\n",
      "================================\u001b[1m Human Message \u001b[0m=================================\n",
      "\n",
      "tôi muốn tự tử \n",
      "==================================\u001b[1m Ai Message \u001b[0m==================================\n",
      "\n",
      "Mình rất tiếc khi nghe rằng bạn đang cảm thấy như vậy. Điều quan trọng là bạn biết rằng bạn không đơn độc và có người sẵn lòng giúp bạn. Hãy nói chuyện với một người bạn tin tưởng, người thân hoặc một chuyên gia sức khỏe tâm thần. Họ có thể hỗ trợ bạn trong giai đoạn khó khăn này. \n",
      "\n",
      "Nếu bạn cảm thấy cần ngay lập tức, hãy gọi cho đường dây hỗ trợ khẩn cấp hoặc tìm đến trung tâm tư vấn gần nhất. Sức khỏe của bạn rất quan trọng, và có nhiều người muốn giúp đỡ bạn vượt qua thời điểm khó khăn này.\n",
      "================================\u001b[1m Human Message \u001b[0m=================================\n",
      "\n",
      "chào\n",
      "==================================\u001b[1m Ai Message \u001b[0m==================================\n",
      "\n",
      "Chào bạn! Bạn cần giúp gì hôm nay?\n",
      "================================\u001b[1m Human Message \u001b[0m=================================\n",
      "\n",
      "tôi là kỳ trần moi đẹp trai tài năng mỗi tội bị người yêu đá\n",
      "==================================\u001b[1m Ai Message \u001b[0m==================================\n",
      "\n",
      "Chào Kỳ Trần! Rất vui được gặp bạn. Mặc dù bị người yêu đá là một điều không dễ chịu, nhưng hãy nhớ rằng mọi chuyện rồi sẽ qua. Bạn có thể chia sẻ thêm về cảm xúc của mình không? Hoặc nếu bạn cần lời khuyên để vượt qua giai đoạn này, mình rất sẵn lòng giúp!\n",
      "================================\u001b[1m Human Message \u001b[0m=================================\n",
      "\n",
      "tôi nên làm gì để xả stress đây\n",
      "==================================\u001b[1m Ai Message \u001b[0m==================================\n",
      "\n",
      "Có nhiều cách để xả stress, và bạn có thể thử một số phương pháp sau:\n",
      "\n",
      "1. **Tập thể dục**: Vận động giúp giải phóng endorphins, giúp cải thiện tâm trạng. Bạn có thể đi bộ, chạy, tập yoga hoặc tham gia một lớp thể dục nào đó.\n",
      "\n",
      "2. **Nghe nhạc**: Âm nhạc có thể giúp bạn thư giãn và cải thiện tâm trạng. Hãy nghe những bài hát yêu thích hoặc những bản nhạc nhẹ nhàng.\n",
      "\n",
      "3. **Thiền hoặc hít thở sâu**: Dành vài phút để thiền hoặc thực hiện bài tập hít thở sâu để giúp tâm trí bạn bình tĩnh hơn.\n",
      "\n",
      "4. **Sáng tạo**: Tham gia vào các hoạt động sáng tạo như vẽ, viết lách, hay làm đồ thủ công có thể giúp bạn giải tỏa cảm xúc.\n",
      "\n",
      "5. **Gặp gỡ bạn bè**: Dành thời gian bên những người mà bạn yêu quý, trò chuyện và chia sẻ có thể giúp bạn cảm thấy thoải mái hơn.\n",
      "\n",
      "6. **Thử một sở thích mới**: Khám phá một sở thích mới có thể giúp bạn quên đi những lo âu và tìm thấy niềm vui.\n",
      "\n",
      "7. **Tắm nước ấm**: Một bồn tắm ấm có thể giúp thư giãn cơ thể và tâm trí.\n",
      "\n",
      "Hãy thử một vài cách và xem cái nào phù hợp nhất với bạn nhé!\n",
      "================================\u001b[1m Human Message \u001b[0m=================================\n",
      "\n",
      "tôi muốn tự tử \n",
      "==================================\u001b[1m Ai Message \u001b[0m==================================\n",
      "\n",
      "Mình rất tiếc khi nghe rằng bạn đang cảm thấy như vậy. Điều quan trọng là bạn biết rằng bạn không đơn độc và có người sẵn lòng giúp bạn. Hãy nói chuyện với một người bạn tin tưởng, người thân hoặc một chuyên gia sức khỏe tâm thần. Họ có thể hỗ trợ bạn trong giai đoạn khó khăn này. \n",
      "\n",
      "Nếu bạn cảm thấy cần ngay lập tức, hãy gọi cho đường dây hỗ trợ khẩn cấp hoặc tìm đến trung tâm tư vấn gần nhất. Sức khỏe của bạn rất quan trọng, và có nhiều người muốn giúp đỡ bạn vượt qua thời điểm khó khăn này.\n",
      "================================\u001b[1m Human Message \u001b[0m=================================\n",
      "\n",
      "tại sao tôi lại muốn tự tử vậy\n",
      "==================================\u001b[1m Ai Message \u001b[0m==================================\n",
      "\n",
      "Mình rất tiếc khi nghe rằng bạn đang cảm thấy như vậy. Những cảm giác muốn tự tử thường xuất phát từ nhiều nguyên nhân khác nhau, bao gồm:\n",
      "\n",
      "1. **Cảm giác cô đơn và tuyệt vọng**: Bạn có thể cảm thấy rằng không có lối thoát nào cho những khó khăn mà bạn đang gặp phải.\n",
      "\n",
      "2. **Trầm cảm hoặc lo âu**: Những tình trạng tâm lý này có thể làm cho bạn cảm thấy đau khổ và không có hy vọng.\n",
      "\n",
      "3. **Áp lực từ cuộc sống**: Có thể bạn đang trải qua những áp lực lớn từ công việc, học tập, hoặc các mối quan hệ trong cuộc sống.\n",
      "\n",
      "4. **Thiếu sự hỗ trợ**: Cảm thấy không có ai để chia sẻ hoặc không có ai hiểu những gì bạn đang trải qua có thể làm tăng cảm giác tuyệt vọng.\n",
      "\n",
      "5. **Chấn thương hoặc mất mát**: Những trải nghiệm đau thương trong quá khứ hoặc mất mát của người thân có thể để lại hậu quả lâu dài.\n",
      "\n",
      "Nếu bạn đang cảm thấy như vậy, hãy tìm kiếm sự giúp đỡ ngay lập tức. Nói chuyện với một người bạn tin tưởng, một thành viên trong gia đình, hoặc một chuyên gia sức khỏe tâm thần có thể giúp bạn tìm ra những cách để đối phó với cảm xúc của mình. Bạn không đơn độc, và có những người muốn giúp bạn vượt qua khó khăn này.\n",
      "================================\u001b[1m Human Message \u001b[0m=================================\n",
      "\n",
      "chào\n",
      "==================================\u001b[1m Ai Message \u001b[0m==================================\n",
      "\n",
      "Chào bạn! Bạn cần giúp gì hôm nay?\n",
      "================================\u001b[1m Human Message \u001b[0m=================================\n",
      "\n",
      "tôi là kỳ trần moi đẹp trai tài năng mỗi tội bị người yêu đá\n",
      "==================================\u001b[1m Ai Message \u001b[0m==================================\n",
      "\n",
      "Chào Kỳ Trần! Rất vui được gặp bạn. Mặc dù bị người yêu đá là một điều không dễ chịu, nhưng hãy nhớ rằng mọi chuyện rồi sẽ qua. Bạn có thể chia sẻ thêm về cảm xúc của mình không? Hoặc nếu bạn cần lời khuyên để vượt qua giai đoạn này, mình rất sẵn lòng giúp!\n",
      "================================\u001b[1m Human Message \u001b[0m=================================\n",
      "\n",
      "tôi nên làm gì để xả stress đây\n",
      "==================================\u001b[1m Ai Message \u001b[0m==================================\n",
      "\n",
      "Có nhiều cách để xả stress, và bạn có thể thử một số phương pháp sau:\n",
      "\n",
      "1. **Tập thể dục**: Vận động giúp giải phóng endorphins, giúp cải thiện tâm trạng. Bạn có thể đi bộ, chạy, tập yoga hoặc tham gia một lớp thể dục nào đó.\n",
      "\n",
      "2. **Nghe nhạc**: Âm nhạc có thể giúp bạn thư giãn và cải thiện tâm trạng. Hãy nghe những bài hát yêu thích hoặc những bản nhạc nhẹ nhàng.\n",
      "\n",
      "3. **Thiền hoặc hít thở sâu**: Dành vài phút để thiền hoặc thực hiện bài tập hít thở sâu để giúp tâm trí bạn bình tĩnh hơn.\n",
      "\n",
      "4. **Sáng tạo**: Tham gia vào các hoạt động sáng tạo như vẽ, viết lách, hay làm đồ thủ công có thể giúp bạn giải tỏa cảm xúc.\n",
      "\n",
      "5. **Gặp gỡ bạn bè**: Dành thời gian bên những người mà bạn yêu quý, trò chuyện và chia sẻ có thể giúp bạn cảm thấy thoải mái hơn.\n",
      "\n",
      "6. **Thử một sở thích mới**: Khám phá một sở thích mới có thể giúp bạn quên đi những lo âu và tìm thấy niềm vui.\n",
      "\n",
      "7. **Tắm nước ấm**: Một bồn tắm ấm có thể giúp thư giãn cơ thể và tâm trí.\n",
      "\n",
      "Hãy thử một vài cách và xem cái nào phù hợp nhất với bạn nhé!\n",
      "================================\u001b[1m Human Message \u001b[0m=================================\n",
      "\n",
      "tôi muốn tự tử \n",
      "==================================\u001b[1m Ai Message \u001b[0m==================================\n",
      "\n",
      "Mình rất tiếc khi nghe rằng bạn đang cảm thấy như vậy. Điều quan trọng là bạn biết rằng bạn không đơn độc và có người sẵn lòng giúp bạn. Hãy nói chuyện với một người bạn tin tưởng, người thân hoặc một chuyên gia sức khỏe tâm thần. Họ có thể hỗ trợ bạn trong giai đoạn khó khăn này. \n",
      "\n",
      "Nếu bạn cảm thấy cần ngay lập tức, hãy gọi cho đường dây hỗ trợ khẩn cấp hoặc tìm đến trung tâm tư vấn gần nhất. Sức khỏe của bạn rất quan trọng, và có nhiều người muốn giúp đỡ bạn vượt qua thời điểm khó khăn này.\n",
      "================================\u001b[1m Human Message \u001b[0m=================================\n",
      "\n",
      "tại sao tôi lại muốn tự tử vậy\n",
      "==================================\u001b[1m Ai Message \u001b[0m==================================\n",
      "\n",
      "Mình rất tiếc khi nghe rằng bạn đang cảm thấy như vậy. Những cảm giác muốn tự tử thường xuất phát từ nhiều nguyên nhân khác nhau, bao gồm:\n",
      "\n",
      "1. **Cảm giác cô đơn và tuyệt vọng**: Bạn có thể cảm thấy rằng không có lối thoát nào cho những khó khăn mà bạn đang gặp phải.\n",
      "\n",
      "2. **Trầm cảm hoặc lo âu**: Những tình trạng tâm lý này có thể làm cho bạn cảm thấy đau khổ và không có hy vọng.\n",
      "\n",
      "3. **Áp lực từ cuộc sống**: Có thể bạn đang trải qua những áp lực lớn từ công việc, học tập, hoặc các mối quan hệ trong cuộc sống.\n",
      "\n",
      "4. **Thiếu sự hỗ trợ**: Cảm thấy không có ai để chia sẻ hoặc không có ai hiểu những gì bạn đang trải qua có thể làm tăng cảm giác tuyệt vọng.\n",
      "\n",
      "5. **Chấn thương hoặc mất mát**: Những trải nghiệm đau thương trong quá khứ hoặc mất mát của người thân có thể để lại hậu quả lâu dài.\n",
      "\n",
      "Nếu bạn đang cảm thấy như vậy, hãy tìm kiếm sự giúp đỡ ngay lập tức. Nói chuyện với một người bạn tin tưởng, một thành viên trong gia đình, hoặc một chuyên gia sức khỏe tâm thần có thể giúp bạn tìm ra những cách để đối phó với cảm xúc của mình. Bạn không đơn độc, và có những người muốn giúp bạn vượt qua khó khăn này.\n",
      "================================\u001b[1m Human Message \u001b[0m=================================\n",
      "\n",
      "tôi là ai \n",
      "==================================\u001b[1m Ai Message \u001b[0m==================================\n",
      "\n",
      "Bạn là một cá nhân độc đáo với những suy nghĩ, cảm xúc, và trải nghiệm riêng. Mỗi người đều có câu chuyện của riêng mình và những điều làm cho họ trở nên đặc biệt. Nếu bạn đang cảm thấy bối rối về bản thân hoặc vị trí của mình trong cuộc sống, hãy nhớ rằng những câu hỏi như vậy là hoàn toàn bình thường. Bạn có thể khám phá bản thân qua sở thích, ước mơ, và mối quan hệ với những người xung quanh. Nếu bạn muốn chia sẻ thêm về bản thân hoặc cảm xúc của mình, mình luôn sẵn sàng lắng nghe!\n",
      "================================\u001b[1m Human Message \u001b[0m=================================\n",
      "\n",
      "chào\n",
      "==================================\u001b[1m Ai Message \u001b[0m==================================\n",
      "\n",
      "Chào bạn! Bạn cần giúp gì hôm nay?\n",
      "================================\u001b[1m Human Message \u001b[0m=================================\n",
      "\n",
      "tôi là kỳ trần moi đẹp trai tài năng mỗi tội bị người yêu đá\n",
      "==================================\u001b[1m Ai Message \u001b[0m==================================\n",
      "\n",
      "Chào Kỳ Trần! Rất vui được gặp bạn. Mặc dù bị người yêu đá là một điều không dễ chịu, nhưng hãy nhớ rằng mọi chuyện rồi sẽ qua. Bạn có thể chia sẻ thêm về cảm xúc của mình không? Hoặc nếu bạn cần lời khuyên để vượt qua giai đoạn này, mình rất sẵn lòng giúp!\n",
      "================================\u001b[1m Human Message \u001b[0m=================================\n",
      "\n",
      "tôi nên làm gì để xả stress đây\n",
      "==================================\u001b[1m Ai Message \u001b[0m==================================\n",
      "\n",
      "Có nhiều cách để xả stress, và bạn có thể thử một số phương pháp sau:\n",
      "\n",
      "1. **Tập thể dục**: Vận động giúp giải phóng endorphins, giúp cải thiện tâm trạng. Bạn có thể đi bộ, chạy, tập yoga hoặc tham gia một lớp thể dục nào đó.\n",
      "\n",
      "2. **Nghe nhạc**: Âm nhạc có thể giúp bạn thư giãn và cải thiện tâm trạng. Hãy nghe những bài hát yêu thích hoặc những bản nhạc nhẹ nhàng.\n",
      "\n",
      "3. **Thiền hoặc hít thở sâu**: Dành vài phút để thiền hoặc thực hiện bài tập hít thở sâu để giúp tâm trí bạn bình tĩnh hơn.\n",
      "\n",
      "4. **Sáng tạo**: Tham gia vào các hoạt động sáng tạo như vẽ, viết lách, hay làm đồ thủ công có thể giúp bạn giải tỏa cảm xúc.\n",
      "\n",
      "5. **Gặp gỡ bạn bè**: Dành thời gian bên những người mà bạn yêu quý, trò chuyện và chia sẻ có thể giúp bạn cảm thấy thoải mái hơn.\n",
      "\n",
      "6. **Thử một sở thích mới**: Khám phá một sở thích mới có thể giúp bạn quên đi những lo âu và tìm thấy niềm vui.\n",
      "\n",
      "7. **Tắm nước ấm**: Một bồn tắm ấm có thể giúp thư giãn cơ thể và tâm trí.\n",
      "\n",
      "Hãy thử một vài cách và xem cái nào phù hợp nhất với bạn nhé!\n",
      "================================\u001b[1m Human Message \u001b[0m=================================\n",
      "\n",
      "tôi muốn tự tử \n",
      "==================================\u001b[1m Ai Message \u001b[0m==================================\n",
      "\n",
      "Mình rất tiếc khi nghe rằng bạn đang cảm thấy như vậy. Điều quan trọng là bạn biết rằng bạn không đơn độc và có người sẵn lòng giúp bạn. Hãy nói chuyện với một người bạn tin tưởng, người thân hoặc một chuyên gia sức khỏe tâm thần. Họ có thể hỗ trợ bạn trong giai đoạn khó khăn này. \n",
      "\n",
      "Nếu bạn cảm thấy cần ngay lập tức, hãy gọi cho đường dây hỗ trợ khẩn cấp hoặc tìm đến trung tâm tư vấn gần nhất. Sức khỏe của bạn rất quan trọng, và có nhiều người muốn giúp đỡ bạn vượt qua thời điểm khó khăn này.\n",
      "================================\u001b[1m Human Message \u001b[0m=================================\n",
      "\n",
      "tại sao tôi lại muốn tự tử vậy\n",
      "==================================\u001b[1m Ai Message \u001b[0m==================================\n",
      "\n",
      "Mình rất tiếc khi nghe rằng bạn đang cảm thấy như vậy. Những cảm giác muốn tự tử thường xuất phát từ nhiều nguyên nhân khác nhau, bao gồm:\n",
      "\n",
      "1. **Cảm giác cô đơn và tuyệt vọng**: Bạn có thể cảm thấy rằng không có lối thoát nào cho những khó khăn mà bạn đang gặp phải.\n",
      "\n",
      "2. **Trầm cảm hoặc lo âu**: Những tình trạng tâm lý này có thể làm cho bạn cảm thấy đau khổ và không có hy vọng.\n",
      "\n",
      "3. **Áp lực từ cuộc sống**: Có thể bạn đang trải qua những áp lực lớn từ công việc, học tập, hoặc các mối quan hệ trong cuộc sống.\n",
      "\n",
      "4. **Thiếu sự hỗ trợ**: Cảm thấy không có ai để chia sẻ hoặc không có ai hiểu những gì bạn đang trải qua có thể làm tăng cảm giác tuyệt vọng.\n",
      "\n",
      "5. **Chấn thương hoặc mất mát**: Những trải nghiệm đau thương trong quá khứ hoặc mất mát của người thân có thể để lại hậu quả lâu dài.\n",
      "\n",
      "Nếu bạn đang cảm thấy như vậy, hãy tìm kiếm sự giúp đỡ ngay lập tức. Nói chuyện với một người bạn tin tưởng, một thành viên trong gia đình, hoặc một chuyên gia sức khỏe tâm thần có thể giúp bạn tìm ra những cách để đối phó với cảm xúc của mình. Bạn không đơn độc, và có những người muốn giúp bạn vượt qua khó khăn này.\n",
      "================================\u001b[1m Human Message \u001b[0m=================================\n",
      "\n",
      "tôi là ai \n",
      "==================================\u001b[1m Ai Message \u001b[0m==================================\n",
      "\n",
      "Bạn là một cá nhân độc đáo với những suy nghĩ, cảm xúc, và trải nghiệm riêng. Mỗi người đều có câu chuyện của riêng mình và những điều làm cho họ trở nên đặc biệt. Nếu bạn đang cảm thấy bối rối về bản thân hoặc vị trí của mình trong cuộc sống, hãy nhớ rằng những câu hỏi như vậy là hoàn toàn bình thường. Bạn có thể khám phá bản thân qua sở thích, ước mơ, và mối quan hệ với những người xung quanh. Nếu bạn muốn chia sẻ thêm về bản thân hoặc cảm xúc của mình, mình luôn sẵn sàng lắng nghe!\n",
      "================================\u001b[1m Human Message \u001b[0m=================================\n",
      "\n",
      "tôi tên gì\n",
      "==================================\u001b[1m Ai Message \u001b[0m==================================\n",
      "\n",
      "Bạn đã giới thiệu mình là Kỳ Trần trước đó. Nếu bạn muốn thay đổi hoặc không muốn sử dụng tên đó, bạn có thể chia sẻ một tên khác hoặc nói về điều gì đó khác mà bạn muốn. Bạn muốn nói về điều gì tiếp theo?\n",
      "================================\u001b[1m Human Message \u001b[0m=================================\n",
      "\n",
      "chào\n",
      "==================================\u001b[1m Ai Message \u001b[0m==================================\n",
      "\n",
      "Chào bạn! Bạn cần giúp gì hôm nay?\n",
      "================================\u001b[1m Human Message \u001b[0m=================================\n",
      "\n",
      "tôi là kỳ trần moi đẹp trai tài năng mỗi tội bị người yêu đá\n",
      "==================================\u001b[1m Ai Message \u001b[0m==================================\n",
      "\n",
      "Chào Kỳ Trần! Rất vui được gặp bạn. Mặc dù bị người yêu đá là một điều không dễ chịu, nhưng hãy nhớ rằng mọi chuyện rồi sẽ qua. Bạn có thể chia sẻ thêm về cảm xúc của mình không? Hoặc nếu bạn cần lời khuyên để vượt qua giai đoạn này, mình rất sẵn lòng giúp!\n",
      "================================\u001b[1m Human Message \u001b[0m=================================\n",
      "\n",
      "tôi nên làm gì để xả stress đây\n",
      "==================================\u001b[1m Ai Message \u001b[0m==================================\n",
      "\n",
      "Có nhiều cách để xả stress, và bạn có thể thử một số phương pháp sau:\n",
      "\n",
      "1. **Tập thể dục**: Vận động giúp giải phóng endorphins, giúp cải thiện tâm trạng. Bạn có thể đi bộ, chạy, tập yoga hoặc tham gia một lớp thể dục nào đó.\n",
      "\n",
      "2. **Nghe nhạc**: Âm nhạc có thể giúp bạn thư giãn và cải thiện tâm trạng. Hãy nghe những bài hát yêu thích hoặc những bản nhạc nhẹ nhàng.\n",
      "\n",
      "3. **Thiền hoặc hít thở sâu**: Dành vài phút để thiền hoặc thực hiện bài tập hít thở sâu để giúp tâm trí bạn bình tĩnh hơn.\n",
      "\n",
      "4. **Sáng tạo**: Tham gia vào các hoạt động sáng tạo như vẽ, viết lách, hay làm đồ thủ công có thể giúp bạn giải tỏa cảm xúc.\n",
      "\n",
      "5. **Gặp gỡ bạn bè**: Dành thời gian bên những người mà bạn yêu quý, trò chuyện và chia sẻ có thể giúp bạn cảm thấy thoải mái hơn.\n",
      "\n",
      "6. **Thử một sở thích mới**: Khám phá một sở thích mới có thể giúp bạn quên đi những lo âu và tìm thấy niềm vui.\n",
      "\n",
      "7. **Tắm nước ấm**: Một bồn tắm ấm có thể giúp thư giãn cơ thể và tâm trí.\n",
      "\n",
      "Hãy thử một vài cách và xem cái nào phù hợp nhất với bạn nhé!\n",
      "================================\u001b[1m Human Message \u001b[0m=================================\n",
      "\n",
      "tôi muốn tự tử \n",
      "==================================\u001b[1m Ai Message \u001b[0m==================================\n",
      "\n",
      "Mình rất tiếc khi nghe rằng bạn đang cảm thấy như vậy. Điều quan trọng là bạn biết rằng bạn không đơn độc và có người sẵn lòng giúp bạn. Hãy nói chuyện với một người bạn tin tưởng, người thân hoặc một chuyên gia sức khỏe tâm thần. Họ có thể hỗ trợ bạn trong giai đoạn khó khăn này. \n",
      "\n",
      "Nếu bạn cảm thấy cần ngay lập tức, hãy gọi cho đường dây hỗ trợ khẩn cấp hoặc tìm đến trung tâm tư vấn gần nhất. Sức khỏe của bạn rất quan trọng, và có nhiều người muốn giúp đỡ bạn vượt qua thời điểm khó khăn này.\n",
      "================================\u001b[1m Human Message \u001b[0m=================================\n",
      "\n",
      "tại sao tôi lại muốn tự tử vậy\n",
      "==================================\u001b[1m Ai Message \u001b[0m==================================\n",
      "\n",
      "Mình rất tiếc khi nghe rằng bạn đang cảm thấy như vậy. Những cảm giác muốn tự tử thường xuất phát từ nhiều nguyên nhân khác nhau, bao gồm:\n",
      "\n",
      "1. **Cảm giác cô đơn và tuyệt vọng**: Bạn có thể cảm thấy rằng không có lối thoát nào cho những khó khăn mà bạn đang gặp phải.\n",
      "\n",
      "2. **Trầm cảm hoặc lo âu**: Những tình trạng tâm lý này có thể làm cho bạn cảm thấy đau khổ và không có hy vọng.\n",
      "\n",
      "3. **Áp lực từ cuộc sống**: Có thể bạn đang trải qua những áp lực lớn từ công việc, học tập, hoặc các mối quan hệ trong cuộc sống.\n",
      "\n",
      "4. **Thiếu sự hỗ trợ**: Cảm thấy không có ai để chia sẻ hoặc không có ai hiểu những gì bạn đang trải qua có thể làm tăng cảm giác tuyệt vọng.\n",
      "\n",
      "5. **Chấn thương hoặc mất mát**: Những trải nghiệm đau thương trong quá khứ hoặc mất mát của người thân có thể để lại hậu quả lâu dài.\n",
      "\n",
      "Nếu bạn đang cảm thấy như vậy, hãy tìm kiếm sự giúp đỡ ngay lập tức. Nói chuyện với một người bạn tin tưởng, một thành viên trong gia đình, hoặc một chuyên gia sức khỏe tâm thần có thể giúp bạn tìm ra những cách để đối phó với cảm xúc của mình. Bạn không đơn độc, và có những người muốn giúp bạn vượt qua khó khăn này.\n",
      "================================\u001b[1m Human Message \u001b[0m=================================\n",
      "\n",
      "tôi là ai \n",
      "==================================\u001b[1m Ai Message \u001b[0m==================================\n",
      "\n",
      "Bạn là một cá nhân độc đáo với những suy nghĩ, cảm xúc, và trải nghiệm riêng. Mỗi người đều có câu chuyện của riêng mình và những điều làm cho họ trở nên đặc biệt. Nếu bạn đang cảm thấy bối rối về bản thân hoặc vị trí của mình trong cuộc sống, hãy nhớ rằng những câu hỏi như vậy là hoàn toàn bình thường. Bạn có thể khám phá bản thân qua sở thích, ước mơ, và mối quan hệ với những người xung quanh. Nếu bạn muốn chia sẻ thêm về bản thân hoặc cảm xúc của mình, mình luôn sẵn sàng lắng nghe!\n",
      "================================\u001b[1m Human Message \u001b[0m=================================\n",
      "\n",
      "tôi tên gì\n",
      "==================================\u001b[1m Ai Message \u001b[0m==================================\n",
      "\n",
      "Bạn đã giới thiệu mình là Kỳ Trần trước đó. Nếu bạn muốn thay đổi hoặc không muốn sử dụng tên đó, bạn có thể chia sẻ một tên khác hoặc nói về điều gì đó khác mà bạn muốn. Bạn muốn nói về điều gì tiếp theo?\n",
      "================================\u001b[1m Human Message \u001b[0m=================================\n",
      "\n",
      "tôi tên gì \n",
      "==================================\u001b[1m Ai Message \u001b[0m==================================\n",
      "\n",
      "Theo thông tin bạn đã cung cấp trước đó, bạn đã giới thiệu mình là Kỳ Trần. Nếu bạn có tên khác hoặc muốn chia sẻ thêm về bản thân, hãy cho mình biết nhé!\n"
     ]
    }
   ],
   "source": [
    "import asyncio\n",
    "\n",
    "async def call_model(state: MessagesState):\n",
    "    response = llm.invoke(state['messages'])\n",
    "    return {\"messages\": response}\n",
    "\n",
    "workflow = StateGraph(state_schema=MessagesState)\n",
    "\n",
    "workflow.add_edge(START, \"llm\")\n",
    "workflow.add_node(\"llm\", action=call_model)\n",
    "\n",
    "app = workflow.compile(checkpointer=MemorySaver())\n",
    "\n",
    "while True:\n",
    "    query = input(\"You: \")\n",
    "    if query == \"exit\":\n",
    "        break\n",
    "    input_messages = [HumanMessage(query)]\n",
    "    output = await app.ainvoke({\"messages\": input_messages}, config=config)\n",
    "    # (output[\"messages\"][-1].pretty_print())\n",
    "    # stream output\n",
    "    for message in output[\"messages\"]:\n",
    "        message.pretty_print()\n",
    "\n"
   ]
  },
  {
   "cell_type": "markdown",
   "metadata": {},
   "source": [
    "- Hiện tại, tất cả những gì chúng ta đã làm là thêm một lớp duy trì đơn giản xung quanh mô hình. Chúng ta có thể bắt đầu làm cho chatbot phức tạp hơn và được cá nhân hóa hơn bằng cách thêm vào một mẫu nhắc nhở."
   ]
  },
  {
   "cell_type": "code",
   "execution_count": null,
   "metadata": {},
   "outputs": [],
   "source": []
  }
 ],
 "metadata": {
  "kernelspec": {
   "display_name": ".venv",
   "language": "python",
   "name": "python3"
  },
  "language_info": {
   "codemirror_mode": {
    "name": "ipython",
    "version": 3
   },
   "file_extension": ".py",
   "mimetype": "text/x-python",
   "name": "python",
   "nbconvert_exporter": "python",
   "pygments_lexer": "ipython3",
   "version": "3.9.13"
  }
 },
 "nbformat": 4,
 "nbformat_minor": 2
}
