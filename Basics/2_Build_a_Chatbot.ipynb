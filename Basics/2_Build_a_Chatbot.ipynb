{
 "cells": [
  {
   "cell_type": "markdown",
   "metadata": {},
   "source": [
    "### **Quickstart**"
   ]
  },
  {
   "cell_type": "code",
   "execution_count": 1,
   "metadata": {},
   "outputs": [],
   "source": [
    "import os \n",
    "from dotenv import load_dotenv\n",
    "load_dotenv()\n",
    "\n",
    "api_key = os.environ[\"OPENAI_API_KEY\"]"
   ]
  },
  {
   "cell_type": "code",
   "execution_count": 2,
   "metadata": {},
   "outputs": [],
   "source": [
    "from langchain_openai import ChatOpenAI\n",
    "\n",
    "llm = ChatOpenAI(model=\"gpt-4o-mini\", api_key=api_key)"
   ]
  },
  {
   "cell_type": "code",
   "execution_count": 3,
   "metadata": {},
   "outputs": [
    {
     "data": {
      "text/plain": [
       "AIMessage(content='Chào bạn, kytranmoi! Bạn có muốn hỏi hay chia sẻ điều gì không?', additional_kwargs={'refusal': None}, response_metadata={'token_usage': {'completion_tokens': 20, 'prompt_tokens': 16, 'total_tokens': 36, 'completion_tokens_details': {'accepted_prediction_tokens': 0, 'audio_tokens': 0, 'reasoning_tokens': 0, 'rejected_prediction_tokens': 0}, 'prompt_tokens_details': {'audio_tokens': 0, 'cached_tokens': 0}}, 'model_name': 'gpt-4o-mini-2024-07-18', 'system_fingerprint': 'fp_0ba0d124f1', 'finish_reason': 'stop', 'logprobs': None}, id='run-f6124c69-2ca4-4791-be13-56d6c6a6342b-0', usage_metadata={'input_tokens': 16, 'output_tokens': 20, 'total_tokens': 36, 'input_token_details': {'audio': 0, 'cache_read': 0}, 'output_token_details': {'audio': 0, 'reasoning': 0}})"
      ]
     },
     "execution_count": 3,
     "metadata": {},
     "output_type": "execute_result"
    }
   ],
   "source": [
    "from langchain_core.messages import HumanMessage\n",
    "\n",
    "llm.invoke([HumanMessage(\"Chào , tôi là kytranmoi\")])\n"
   ]
  },
  {
   "cell_type": "code",
   "execution_count": 4,
   "metadata": {},
   "outputs": [
    {
     "data": {
      "text/plain": [
       "AIMessage(content='Xin lỗi, nhưng tôi không biết tên của bạn. Bạn có thể cho tôi biết tên của bạn được không?', additional_kwargs={'refusal': None}, response_metadata={'token_usage': {'completion_tokens': 23, 'prompt_tokens': 12, 'total_tokens': 35, 'completion_tokens_details': {'accepted_prediction_tokens': 0, 'audio_tokens': 0, 'reasoning_tokens': 0, 'rejected_prediction_tokens': 0}, 'prompt_tokens_details': {'audio_tokens': 0, 'cached_tokens': 0}}, 'model_name': 'gpt-4o-mini-2024-07-18', 'system_fingerprint': 'fp_0ba0d124f1', 'finish_reason': 'stop', 'logprobs': None}, id='run-88b4e4e6-f689-4b78-b72a-186c6b0e7d1c-0', usage_metadata={'input_tokens': 12, 'output_tokens': 23, 'total_tokens': 35, 'input_token_details': {'audio': 0, 'cache_read': 0}, 'output_token_details': {'audio': 0, 'reasoning': 0}})"
      ]
     },
     "execution_count": 4,
     "metadata": {},
     "output_type": "execute_result"
    }
   ],
   "source": [
    "llm.invoke([HumanMessage(\"Tên tôi là gì ?\")])"
   ]
  },
  {
   "cell_type": "markdown",
   "metadata": {},
   "source": [
    "- Thì như ví dụ ở trên chúng ta thấy nó không hiểu được lịch sử của cuộc trò chuyện.\n",
    "    -   Điều này thật là tệ hại với một con chatbot trong nó không khác gì so với việc tự đi search google.\n",
    "- Để giải quyết vấn đề này chúng ta cần truyền vô toàn bộ lịch sử của cuộc trò chuyện."
   ]
  },
  {
   "cell_type": "code",
   "execution_count": 5,
   "metadata": {},
   "outputs": [
    {
     "data": {
      "text/plain": [
       "AIMessage(content='Bạn là kytranmoi! Tuy nhiên, tôi không có thông tin cụ thể về bạn. Nếu bạn muốn chia sẻ thêm về bản thân, tôi rất vui được lắng nghe!', additional_kwargs={'refusal': None}, response_metadata={'token_usage': {'completion_tokens': 38, 'prompt_tokens': 49, 'total_tokens': 87, 'completion_tokens_details': {'accepted_prediction_tokens': 0, 'audio_tokens': 0, 'reasoning_tokens': 0, 'rejected_prediction_tokens': 0}, 'prompt_tokens_details': {'audio_tokens': 0, 'cached_tokens': 0}}, 'model_name': 'gpt-4o-mini-2024-07-18', 'system_fingerprint': 'fp_0ba0d124f1', 'finish_reason': 'stop', 'logprobs': None}, id='run-c0a89fac-95d8-4f7a-a3d9-7212252d73db-0', usage_metadata={'input_tokens': 49, 'output_tokens': 38, 'total_tokens': 87, 'input_token_details': {'audio': 0, 'cache_read': 0}, 'output_token_details': {'audio': 0, 'reasoning': 0}})"
      ]
     },
     "execution_count": 5,
     "metadata": {},
     "output_type": "execute_result"
    }
   ],
   "source": [
    "from langchain_core.messages import AIMessage\n",
    "\n",
    "llm.invoke(\n",
    "    [\n",
    "        HumanMessage(\"Chào , tôi là kytranmoi\"),\n",
    "        AIMessage(\"Chào bạn, kytranmoi! Bạn có muốn hỏi hay chia sẻ điều gì không?\"),\n",
    "        HumanMessage(\"Tôi là ai ?\"),\n",
    "    ]\n",
    ")"
   ]
  },
  {
   "cell_type": "markdown",
   "metadata": {},
   "source": [
    "- Như vậy nó đã có thể phản hồi dựa trên lịch sử cũ của cuộc trò truyện.\n",
    "- Đây là ý tưởng cơ bản để hỗ trợ khả nawg=ng tương tác đàm thoại của Chatbot. Vậy làm thế nào để triển khai điều này tốt nhất?"
   ]
  },
  {
   "cell_type": "markdown",
   "metadata": {},
   "source": [
    "### **Message persistence**"
   ]
  },
  {
   "cell_type": "markdown",
   "metadata": {},
   "source": [
    "- LangGraph triển khai lớp duy trì tích hợp, khiến nó trở nên lý tưởng cho các ứng dụng trò chuyện hỗ trợ nhiều lượt trò chuyện.\n",
    "- Việc gói mô hình trò chuyện của chúng tôi trong ứng dụng LangGraph tối giản cho phép chúng tôi tự động lưu lại lịch sử tin nhắn, giúp đơn giản hóa quá trình phát triền các ứng dụng nhiều bước.\n",
    "- LangGraph đi kèm với một checkpointer trong bộ nhớ đơn giản, chúng tôi sử dụng bên dưới."
   ]
  },
  {
   "cell_type": "code",
   "execution_count": 11,
   "metadata": {},
   "outputs": [],
   "source": [
    "from langgraph.checkpoint.memory import MemorySaver\n",
    "from langgraph.graph import START, MessagesState, StateGraph\n",
    "\n",
    "workflow = StateGraph(state_schema=MessagesState)\n",
    "\n",
    "def call_model(state: MessagesState):\n",
    "    response = llm.invoke(state['messages'])\n",
    "    return {\"messages\": response}\n",
    "\n",
    "workflow.add_edge(START, \"llm\")\n",
    "workflow.add_node(\"llm\", call_model)\n",
    "\n",
    "memory = MemorySaver()\n",
    "app = workflow.compile(checkpointer=memory)\n"
   ]
  },
  {
   "cell_type": "markdown",
   "metadata": {},
   "source": [
    "- Bây giờ chúng ta cần tạo một configmà chúng ta truyền vào runnable mọi lúc. Cấu hình này chứa thông tin không phải là một phần của đầu vào trực tiếp, nhưng vẫn hữu ích. Trong trường hợp này, chúng ta muốn bao gồm một thread_id. Nó sẽ trông như thế này:"
   ]
  },
  {
   "cell_type": "code",
   "execution_count": 12,
   "metadata": {},
   "outputs": [],
   "source": [
    "config = {\"configurable\": {\"thread_id\": \"abc123\"}}"
   ]
  },
  {
   "cell_type": "markdown",
   "metadata": {},
   "source": [
    "- Điều này cho phép chúng tôi hỗ trợ nhiều luồng hội thoại với một ứng dụng duy nhất, một yêu cầu phổ biến khi ứng dụng của bạn có nhiều người dùng."
   ]
  },
  {
   "cell_type": "code",
   "execution_count": 13,
   "metadata": {},
   "outputs": [
    {
     "name": "stdout",
     "output_type": "stream",
     "text": [
      "==================================\u001b[1m Ai Message \u001b[0m==================================\n",
      "\n",
      "Chào bạn, kytranmoi! Rất vui được gặp bạn. Bạn cần giúp gì hôm nay?\n"
     ]
    }
   ],
   "source": [
    "query = \"\"\"\n",
    "Chào , tôi là kytranmoi\n",
    "\"\"\"\n",
    "input_message = [HumanMessage(query)]\n",
    "output = app.invoke({\"messages\":input_message}, config=config)\n",
    "output['messages'][-1].pretty_print()"
   ]
  },
  {
   "cell_type": "code",
   "execution_count": 18,
   "metadata": {},
   "outputs": [
    {
     "name": "stdout",
     "output_type": "stream",
     "text": [
      "==================================\u001b[1m Ai Message \u001b[0m==================================\n",
      "\n",
      "Tên bạn là kytranmoi. Nếu bạn cần tôi giúp gì khác, hãy cho tôi biết nhé!\n"
     ]
    }
   ],
   "source": [
    "query = \"Tên tôi là gì ?\"\n",
    "\n",
    "input_messages = [HumanMessage(query)]\n",
    "output = app.invoke({\"messages\": input_messages}, config)\n",
    "output[\"messages\"][-1].pretty_print()"
   ]
  },
  {
   "cell_type": "markdown",
   "metadata": {},
   "source": [
    "- Tuyệt! Chatbot của chúng tôi hiện ghi nhớ mọi thứ về chúng tôi. Nếu chúng tôi thay đổi cấu hình để tham chiếu đến một thread_id, chúng tôi có thể thấy rằng nó bắt đầu cuộc trò chuyện mới."
   ]
  },
  {
   "cell_type": "code",
   "execution_count": 19,
   "metadata": {},
   "outputs": [
    {
     "name": "stdout",
     "output_type": "stream",
     "text": [
      "==================================\u001b[1m Ai Message \u001b[0m==================================\n",
      "\n",
      "Xin lỗi, nhưng tôi không biết tên của bạn. Bạn có muốn chia sẻ tên của mình không?\n"
     ]
    }
   ],
   "source": [
    "config = {\"configurable\": {\"thread_id\": \"abc234\"}}\n",
    "\n",
    "input_messages = [HumanMessage(query)]\n",
    "output = app.invoke({\"messages\": input_messages}, config)\n",
    "output[\"messages\"][-1].pretty_print()"
   ]
  },
  {
   "cell_type": "code",
   "execution_count": 20,
   "metadata": {},
   "outputs": [
    {
     "name": "stdout",
     "output_type": "stream",
     "text": [
      "==================================\u001b[1m Ai Message \u001b[0m==================================\n",
      "\n",
      "Tên bạn là kytranmoi. Nếu bạn có câu hỏi nào khác hoặc cần trợ giúp, hãy cho tôi biết!\n"
     ]
    }
   ],
   "source": [
    "config = {\"configurable\": {\"thread_id\": \"abc123\"}}\n",
    "\n",
    "input_messages = [HumanMessage(query)]\n",
    "output = app.invoke({\"messages\": input_messages}, config)\n",
    "output[\"messages\"][-1].pretty_print()"
   ]
  },
  {
   "cell_type": "markdown",
   "metadata": {},
   "source": [
    "- Đây là cách chúng ta có thể hỗ trợ chatbot trò chuyện với nhiều người dùng!"
   ]
  },
  {
   "cell_type": "markdown",
   "metadata": {},
   "source": [
    "**Mẹo**\n",
    "- Để hỗ trợ bất đồng bộ, hãy cập nhật call_modelnút thành hàm bất đồng bộ và sử dụng .ainvoke khi gọi ứng dụng:"
   ]
  },
  {
   "cell_type": "code",
   "execution_count": 29,
   "metadata": {},
   "outputs": [
    {
     "name": "stdout",
     "output_type": "stream",
     "text": [
      "================================\u001b[1m Human Message \u001b[0m=================================\n",
      "\n",
      "chào\n",
      "==================================\u001b[1m Ai Message \u001b[0m==================================\n",
      "\n",
      "Chào bạn! Bạn cần giúp gì hôm nay?\n",
      "================================\u001b[1m Human Message \u001b[0m=================================\n",
      "\n",
      "chào\n",
      "==================================\u001b[1m Ai Message \u001b[0m==================================\n",
      "\n",
      "Chào bạn! Bạn cần giúp gì hôm nay?\n",
      "================================\u001b[1m Human Message \u001b[0m=================================\n",
      "\n",
      "tôi là kỳ trần moi đẹp trai tài năng mỗi tội bị người yêu đá\n",
      "==================================\u001b[1m Ai Message \u001b[0m==================================\n",
      "\n",
      "Chào Kỳ Trần! Rất vui được gặp bạn. Mặc dù bị người yêu đá là một điều không dễ chịu, nhưng hãy nhớ rằng mọi chuyện rồi sẽ qua. Bạn có thể chia sẻ thêm về cảm xúc của mình không? Hoặc nếu bạn cần lời khuyên để vượt qua giai đoạn này, mình rất sẵn lòng giúp!\n",
      "================================\u001b[1m Human Message \u001b[0m=================================\n",
      "\n",
      "chào\n",
      "==================================\u001b[1m Ai Message \u001b[0m==================================\n",
      "\n",
      "Chào bạn! Bạn cần giúp gì hôm nay?\n",
      "================================\u001b[1m Human Message \u001b[0m=================================\n",
      "\n",
      "tôi là kỳ trần moi đẹp trai tài năng mỗi tội bị người yêu đá\n",
      "==================================\u001b[1m Ai Message \u001b[0m==================================\n",
      "\n",
      "Chào Kỳ Trần! Rất vui được gặp bạn. Mặc dù bị người yêu đá là một điều không dễ chịu, nhưng hãy nhớ rằng mọi chuyện rồi sẽ qua. Bạn có thể chia sẻ thêm về cảm xúc của mình không? Hoặc nếu bạn cần lời khuyên để vượt qua giai đoạn này, mình rất sẵn lòng giúp!\n",
      "================================\u001b[1m Human Message \u001b[0m=================================\n",
      "\n",
      "tôi nên làm gì để xả stress đây\n",
      "==================================\u001b[1m Ai Message \u001b[0m==================================\n",
      "\n",
      "Có nhiều cách để xả stress, và bạn có thể thử một số phương pháp sau:\n",
      "\n",
      "1. **Tập thể dục**: Vận động giúp giải phóng endorphins, giúp cải thiện tâm trạng. Bạn có thể đi bộ, chạy, tập yoga hoặc tham gia một lớp thể dục nào đó.\n",
      "\n",
      "2. **Nghe nhạc**: Âm nhạc có thể giúp bạn thư giãn và cải thiện tâm trạng. Hãy nghe những bài hát yêu thích hoặc những bản nhạc nhẹ nhàng.\n",
      "\n",
      "3. **Thiền hoặc hít thở sâu**: Dành vài phút để thiền hoặc thực hiện bài tập hít thở sâu để giúp tâm trí bạn bình tĩnh hơn.\n",
      "\n",
      "4. **Sáng tạo**: Tham gia vào các hoạt động sáng tạo như vẽ, viết lách, hay làm đồ thủ công có thể giúp bạn giải tỏa cảm xúc.\n",
      "\n",
      "5. **Gặp gỡ bạn bè**: Dành thời gian bên những người mà bạn yêu quý, trò chuyện và chia sẻ có thể giúp bạn cảm thấy thoải mái hơn.\n",
      "\n",
      "6. **Thử một sở thích mới**: Khám phá một sở thích mới có thể giúp bạn quên đi những lo âu và tìm thấy niềm vui.\n",
      "\n",
      "7. **Tắm nước ấm**: Một bồn tắm ấm có thể giúp thư giãn cơ thể và tâm trí.\n",
      "\n",
      "Hãy thử một vài cách và xem cái nào phù hợp nhất với bạn nhé!\n",
      "================================\u001b[1m Human Message \u001b[0m=================================\n",
      "\n",
      "chào\n",
      "==================================\u001b[1m Ai Message \u001b[0m==================================\n",
      "\n",
      "Chào bạn! Bạn cần giúp gì hôm nay?\n",
      "================================\u001b[1m Human Message \u001b[0m=================================\n",
      "\n",
      "tôi là kỳ trần moi đẹp trai tài năng mỗi tội bị người yêu đá\n",
      "==================================\u001b[1m Ai Message \u001b[0m==================================\n",
      "\n",
      "Chào Kỳ Trần! Rất vui được gặp bạn. Mặc dù bị người yêu đá là một điều không dễ chịu, nhưng hãy nhớ rằng mọi chuyện rồi sẽ qua. Bạn có thể chia sẻ thêm về cảm xúc của mình không? Hoặc nếu bạn cần lời khuyên để vượt qua giai đoạn này, mình rất sẵn lòng giúp!\n",
      "================================\u001b[1m Human Message \u001b[0m=================================\n",
      "\n",
      "tôi nên làm gì để xả stress đây\n",
      "==================================\u001b[1m Ai Message \u001b[0m==================================\n",
      "\n",
      "Có nhiều cách để xả stress, và bạn có thể thử một số phương pháp sau:\n",
      "\n",
      "1. **Tập thể dục**: Vận động giúp giải phóng endorphins, giúp cải thiện tâm trạng. Bạn có thể đi bộ, chạy, tập yoga hoặc tham gia một lớp thể dục nào đó.\n",
      "\n",
      "2. **Nghe nhạc**: Âm nhạc có thể giúp bạn thư giãn và cải thiện tâm trạng. Hãy nghe những bài hát yêu thích hoặc những bản nhạc nhẹ nhàng.\n",
      "\n",
      "3. **Thiền hoặc hít thở sâu**: Dành vài phút để thiền hoặc thực hiện bài tập hít thở sâu để giúp tâm trí bạn bình tĩnh hơn.\n",
      "\n",
      "4. **Sáng tạo**: Tham gia vào các hoạt động sáng tạo như vẽ, viết lách, hay làm đồ thủ công có thể giúp bạn giải tỏa cảm xúc.\n",
      "\n",
      "5. **Gặp gỡ bạn bè**: Dành thời gian bên những người mà bạn yêu quý, trò chuyện và chia sẻ có thể giúp bạn cảm thấy thoải mái hơn.\n",
      "\n",
      "6. **Thử một sở thích mới**: Khám phá một sở thích mới có thể giúp bạn quên đi những lo âu và tìm thấy niềm vui.\n",
      "\n",
      "7. **Tắm nước ấm**: Một bồn tắm ấm có thể giúp thư giãn cơ thể và tâm trí.\n",
      "\n",
      "Hãy thử một vài cách và xem cái nào phù hợp nhất với bạn nhé!\n",
      "================================\u001b[1m Human Message \u001b[0m=================================\n",
      "\n",
      "tôi muốn tự tử \n",
      "==================================\u001b[1m Ai Message \u001b[0m==================================\n",
      "\n",
      "Mình rất tiếc khi nghe rằng bạn đang cảm thấy như vậy. Điều quan trọng là bạn biết rằng bạn không đơn độc và có người sẵn lòng giúp bạn. Hãy nói chuyện với một người bạn tin tưởng, người thân hoặc một chuyên gia sức khỏe tâm thần. Họ có thể hỗ trợ bạn trong giai đoạn khó khăn này. \n",
      "\n",
      "Nếu bạn cảm thấy cần ngay lập tức, hãy gọi cho đường dây hỗ trợ khẩn cấp hoặc tìm đến trung tâm tư vấn gần nhất. Sức khỏe của bạn rất quan trọng, và có nhiều người muốn giúp đỡ bạn vượt qua thời điểm khó khăn này.\n",
      "================================\u001b[1m Human Message \u001b[0m=================================\n",
      "\n",
      "chào\n",
      "==================================\u001b[1m Ai Message \u001b[0m==================================\n",
      "\n",
      "Chào bạn! Bạn cần giúp gì hôm nay?\n",
      "================================\u001b[1m Human Message \u001b[0m=================================\n",
      "\n",
      "tôi là kỳ trần moi đẹp trai tài năng mỗi tội bị người yêu đá\n",
      "==================================\u001b[1m Ai Message \u001b[0m==================================\n",
      "\n",
      "Chào Kỳ Trần! Rất vui được gặp bạn. Mặc dù bị người yêu đá là một điều không dễ chịu, nhưng hãy nhớ rằng mọi chuyện rồi sẽ qua. Bạn có thể chia sẻ thêm về cảm xúc của mình không? Hoặc nếu bạn cần lời khuyên để vượt qua giai đoạn này, mình rất sẵn lòng giúp!\n",
      "================================\u001b[1m Human Message \u001b[0m=================================\n",
      "\n",
      "tôi nên làm gì để xả stress đây\n",
      "==================================\u001b[1m Ai Message \u001b[0m==================================\n",
      "\n",
      "Có nhiều cách để xả stress, và bạn có thể thử một số phương pháp sau:\n",
      "\n",
      "1. **Tập thể dục**: Vận động giúp giải phóng endorphins, giúp cải thiện tâm trạng. Bạn có thể đi bộ, chạy, tập yoga hoặc tham gia một lớp thể dục nào đó.\n",
      "\n",
      "2. **Nghe nhạc**: Âm nhạc có thể giúp bạn thư giãn và cải thiện tâm trạng. Hãy nghe những bài hát yêu thích hoặc những bản nhạc nhẹ nhàng.\n",
      "\n",
      "3. **Thiền hoặc hít thở sâu**: Dành vài phút để thiền hoặc thực hiện bài tập hít thở sâu để giúp tâm trí bạn bình tĩnh hơn.\n",
      "\n",
      "4. **Sáng tạo**: Tham gia vào các hoạt động sáng tạo như vẽ, viết lách, hay làm đồ thủ công có thể giúp bạn giải tỏa cảm xúc.\n",
      "\n",
      "5. **Gặp gỡ bạn bè**: Dành thời gian bên những người mà bạn yêu quý, trò chuyện và chia sẻ có thể giúp bạn cảm thấy thoải mái hơn.\n",
      "\n",
      "6. **Thử một sở thích mới**: Khám phá một sở thích mới có thể giúp bạn quên đi những lo âu và tìm thấy niềm vui.\n",
      "\n",
      "7. **Tắm nước ấm**: Một bồn tắm ấm có thể giúp thư giãn cơ thể và tâm trí.\n",
      "\n",
      "Hãy thử một vài cách và xem cái nào phù hợp nhất với bạn nhé!\n",
      "================================\u001b[1m Human Message \u001b[0m=================================\n",
      "\n",
      "tôi muốn tự tử \n",
      "==================================\u001b[1m Ai Message \u001b[0m==================================\n",
      "\n",
      "Mình rất tiếc khi nghe rằng bạn đang cảm thấy như vậy. Điều quan trọng là bạn biết rằng bạn không đơn độc và có người sẵn lòng giúp bạn. Hãy nói chuyện với một người bạn tin tưởng, người thân hoặc một chuyên gia sức khỏe tâm thần. Họ có thể hỗ trợ bạn trong giai đoạn khó khăn này. \n",
      "\n",
      "Nếu bạn cảm thấy cần ngay lập tức, hãy gọi cho đường dây hỗ trợ khẩn cấp hoặc tìm đến trung tâm tư vấn gần nhất. Sức khỏe của bạn rất quan trọng, và có nhiều người muốn giúp đỡ bạn vượt qua thời điểm khó khăn này.\n",
      "================================\u001b[1m Human Message \u001b[0m=================================\n",
      "\n",
      "tại sao tôi lại muốn tự tử vậy\n",
      "==================================\u001b[1m Ai Message \u001b[0m==================================\n",
      "\n",
      "Mình rất tiếc khi nghe rằng bạn đang cảm thấy như vậy. Những cảm giác muốn tự tử thường xuất phát từ nhiều nguyên nhân khác nhau, bao gồm:\n",
      "\n",
      "1. **Cảm giác cô đơn và tuyệt vọng**: Bạn có thể cảm thấy rằng không có lối thoát nào cho những khó khăn mà bạn đang gặp phải.\n",
      "\n",
      "2. **Trầm cảm hoặc lo âu**: Những tình trạng tâm lý này có thể làm cho bạn cảm thấy đau khổ và không có hy vọng.\n",
      "\n",
      "3. **Áp lực từ cuộc sống**: Có thể bạn đang trải qua những áp lực lớn từ công việc, học tập, hoặc các mối quan hệ trong cuộc sống.\n",
      "\n",
      "4. **Thiếu sự hỗ trợ**: Cảm thấy không có ai để chia sẻ hoặc không có ai hiểu những gì bạn đang trải qua có thể làm tăng cảm giác tuyệt vọng.\n",
      "\n",
      "5. **Chấn thương hoặc mất mát**: Những trải nghiệm đau thương trong quá khứ hoặc mất mát của người thân có thể để lại hậu quả lâu dài.\n",
      "\n",
      "Nếu bạn đang cảm thấy như vậy, hãy tìm kiếm sự giúp đỡ ngay lập tức. Nói chuyện với một người bạn tin tưởng, một thành viên trong gia đình, hoặc một chuyên gia sức khỏe tâm thần có thể giúp bạn tìm ra những cách để đối phó với cảm xúc của mình. Bạn không đơn độc, và có những người muốn giúp bạn vượt qua khó khăn này.\n",
      "================================\u001b[1m Human Message \u001b[0m=================================\n",
      "\n",
      "chào\n",
      "==================================\u001b[1m Ai Message \u001b[0m==================================\n",
      "\n",
      "Chào bạn! Bạn cần giúp gì hôm nay?\n",
      "================================\u001b[1m Human Message \u001b[0m=================================\n",
      "\n",
      "tôi là kỳ trần moi đẹp trai tài năng mỗi tội bị người yêu đá\n",
      "==================================\u001b[1m Ai Message \u001b[0m==================================\n",
      "\n",
      "Chào Kỳ Trần! Rất vui được gặp bạn. Mặc dù bị người yêu đá là một điều không dễ chịu, nhưng hãy nhớ rằng mọi chuyện rồi sẽ qua. Bạn có thể chia sẻ thêm về cảm xúc của mình không? Hoặc nếu bạn cần lời khuyên để vượt qua giai đoạn này, mình rất sẵn lòng giúp!\n",
      "================================\u001b[1m Human Message \u001b[0m=================================\n",
      "\n",
      "tôi nên làm gì để xả stress đây\n",
      "==================================\u001b[1m Ai Message \u001b[0m==================================\n",
      "\n",
      "Có nhiều cách để xả stress, và bạn có thể thử một số phương pháp sau:\n",
      "\n",
      "1. **Tập thể dục**: Vận động giúp giải phóng endorphins, giúp cải thiện tâm trạng. Bạn có thể đi bộ, chạy, tập yoga hoặc tham gia một lớp thể dục nào đó.\n",
      "\n",
      "2. **Nghe nhạc**: Âm nhạc có thể giúp bạn thư giãn và cải thiện tâm trạng. Hãy nghe những bài hát yêu thích hoặc những bản nhạc nhẹ nhàng.\n",
      "\n",
      "3. **Thiền hoặc hít thở sâu**: Dành vài phút để thiền hoặc thực hiện bài tập hít thở sâu để giúp tâm trí bạn bình tĩnh hơn.\n",
      "\n",
      "4. **Sáng tạo**: Tham gia vào các hoạt động sáng tạo như vẽ, viết lách, hay làm đồ thủ công có thể giúp bạn giải tỏa cảm xúc.\n",
      "\n",
      "5. **Gặp gỡ bạn bè**: Dành thời gian bên những người mà bạn yêu quý, trò chuyện và chia sẻ có thể giúp bạn cảm thấy thoải mái hơn.\n",
      "\n",
      "6. **Thử một sở thích mới**: Khám phá một sở thích mới có thể giúp bạn quên đi những lo âu và tìm thấy niềm vui.\n",
      "\n",
      "7. **Tắm nước ấm**: Một bồn tắm ấm có thể giúp thư giãn cơ thể và tâm trí.\n",
      "\n",
      "Hãy thử một vài cách và xem cái nào phù hợp nhất với bạn nhé!\n",
      "================================\u001b[1m Human Message \u001b[0m=================================\n",
      "\n",
      "tôi muốn tự tử \n",
      "==================================\u001b[1m Ai Message \u001b[0m==================================\n",
      "\n",
      "Mình rất tiếc khi nghe rằng bạn đang cảm thấy như vậy. Điều quan trọng là bạn biết rằng bạn không đơn độc và có người sẵn lòng giúp bạn. Hãy nói chuyện với một người bạn tin tưởng, người thân hoặc một chuyên gia sức khỏe tâm thần. Họ có thể hỗ trợ bạn trong giai đoạn khó khăn này. \n",
      "\n",
      "Nếu bạn cảm thấy cần ngay lập tức, hãy gọi cho đường dây hỗ trợ khẩn cấp hoặc tìm đến trung tâm tư vấn gần nhất. Sức khỏe của bạn rất quan trọng, và có nhiều người muốn giúp đỡ bạn vượt qua thời điểm khó khăn này.\n",
      "================================\u001b[1m Human Message \u001b[0m=================================\n",
      "\n",
      "tại sao tôi lại muốn tự tử vậy\n",
      "==================================\u001b[1m Ai Message \u001b[0m==================================\n",
      "\n",
      "Mình rất tiếc khi nghe rằng bạn đang cảm thấy như vậy. Những cảm giác muốn tự tử thường xuất phát từ nhiều nguyên nhân khác nhau, bao gồm:\n",
      "\n",
      "1. **Cảm giác cô đơn và tuyệt vọng**: Bạn có thể cảm thấy rằng không có lối thoát nào cho những khó khăn mà bạn đang gặp phải.\n",
      "\n",
      "2. **Trầm cảm hoặc lo âu**: Những tình trạng tâm lý này có thể làm cho bạn cảm thấy đau khổ và không có hy vọng.\n",
      "\n",
      "3. **Áp lực từ cuộc sống**: Có thể bạn đang trải qua những áp lực lớn từ công việc, học tập, hoặc các mối quan hệ trong cuộc sống.\n",
      "\n",
      "4. **Thiếu sự hỗ trợ**: Cảm thấy không có ai để chia sẻ hoặc không có ai hiểu những gì bạn đang trải qua có thể làm tăng cảm giác tuyệt vọng.\n",
      "\n",
      "5. **Chấn thương hoặc mất mát**: Những trải nghiệm đau thương trong quá khứ hoặc mất mát của người thân có thể để lại hậu quả lâu dài.\n",
      "\n",
      "Nếu bạn đang cảm thấy như vậy, hãy tìm kiếm sự giúp đỡ ngay lập tức. Nói chuyện với một người bạn tin tưởng, một thành viên trong gia đình, hoặc một chuyên gia sức khỏe tâm thần có thể giúp bạn tìm ra những cách để đối phó với cảm xúc của mình. Bạn không đơn độc, và có những người muốn giúp bạn vượt qua khó khăn này.\n",
      "================================\u001b[1m Human Message \u001b[0m=================================\n",
      "\n",
      "tôi là ai \n",
      "==================================\u001b[1m Ai Message \u001b[0m==================================\n",
      "\n",
      "Bạn là một cá nhân độc đáo với những suy nghĩ, cảm xúc, và trải nghiệm riêng. Mỗi người đều có câu chuyện của riêng mình và những điều làm cho họ trở nên đặc biệt. Nếu bạn đang cảm thấy bối rối về bản thân hoặc vị trí của mình trong cuộc sống, hãy nhớ rằng những câu hỏi như vậy là hoàn toàn bình thường. Bạn có thể khám phá bản thân qua sở thích, ước mơ, và mối quan hệ với những người xung quanh. Nếu bạn muốn chia sẻ thêm về bản thân hoặc cảm xúc của mình, mình luôn sẵn sàng lắng nghe!\n",
      "================================\u001b[1m Human Message \u001b[0m=================================\n",
      "\n",
      "chào\n",
      "==================================\u001b[1m Ai Message \u001b[0m==================================\n",
      "\n",
      "Chào bạn! Bạn cần giúp gì hôm nay?\n",
      "================================\u001b[1m Human Message \u001b[0m=================================\n",
      "\n",
      "tôi là kỳ trần moi đẹp trai tài năng mỗi tội bị người yêu đá\n",
      "==================================\u001b[1m Ai Message \u001b[0m==================================\n",
      "\n",
      "Chào Kỳ Trần! Rất vui được gặp bạn. Mặc dù bị người yêu đá là một điều không dễ chịu, nhưng hãy nhớ rằng mọi chuyện rồi sẽ qua. Bạn có thể chia sẻ thêm về cảm xúc của mình không? Hoặc nếu bạn cần lời khuyên để vượt qua giai đoạn này, mình rất sẵn lòng giúp!\n",
      "================================\u001b[1m Human Message \u001b[0m=================================\n",
      "\n",
      "tôi nên làm gì để xả stress đây\n",
      "==================================\u001b[1m Ai Message \u001b[0m==================================\n",
      "\n",
      "Có nhiều cách để xả stress, và bạn có thể thử một số phương pháp sau:\n",
      "\n",
      "1. **Tập thể dục**: Vận động giúp giải phóng endorphins, giúp cải thiện tâm trạng. Bạn có thể đi bộ, chạy, tập yoga hoặc tham gia một lớp thể dục nào đó.\n",
      "\n",
      "2. **Nghe nhạc**: Âm nhạc có thể giúp bạn thư giãn và cải thiện tâm trạng. Hãy nghe những bài hát yêu thích hoặc những bản nhạc nhẹ nhàng.\n",
      "\n",
      "3. **Thiền hoặc hít thở sâu**: Dành vài phút để thiền hoặc thực hiện bài tập hít thở sâu để giúp tâm trí bạn bình tĩnh hơn.\n",
      "\n",
      "4. **Sáng tạo**: Tham gia vào các hoạt động sáng tạo như vẽ, viết lách, hay làm đồ thủ công có thể giúp bạn giải tỏa cảm xúc.\n",
      "\n",
      "5. **Gặp gỡ bạn bè**: Dành thời gian bên những người mà bạn yêu quý, trò chuyện và chia sẻ có thể giúp bạn cảm thấy thoải mái hơn.\n",
      "\n",
      "6. **Thử một sở thích mới**: Khám phá một sở thích mới có thể giúp bạn quên đi những lo âu và tìm thấy niềm vui.\n",
      "\n",
      "7. **Tắm nước ấm**: Một bồn tắm ấm có thể giúp thư giãn cơ thể và tâm trí.\n",
      "\n",
      "Hãy thử một vài cách và xem cái nào phù hợp nhất với bạn nhé!\n",
      "================================\u001b[1m Human Message \u001b[0m=================================\n",
      "\n",
      "tôi muốn tự tử \n",
      "==================================\u001b[1m Ai Message \u001b[0m==================================\n",
      "\n",
      "Mình rất tiếc khi nghe rằng bạn đang cảm thấy như vậy. Điều quan trọng là bạn biết rằng bạn không đơn độc và có người sẵn lòng giúp bạn. Hãy nói chuyện với một người bạn tin tưởng, người thân hoặc một chuyên gia sức khỏe tâm thần. Họ có thể hỗ trợ bạn trong giai đoạn khó khăn này. \n",
      "\n",
      "Nếu bạn cảm thấy cần ngay lập tức, hãy gọi cho đường dây hỗ trợ khẩn cấp hoặc tìm đến trung tâm tư vấn gần nhất. Sức khỏe của bạn rất quan trọng, và có nhiều người muốn giúp đỡ bạn vượt qua thời điểm khó khăn này.\n",
      "================================\u001b[1m Human Message \u001b[0m=================================\n",
      "\n",
      "tại sao tôi lại muốn tự tử vậy\n",
      "==================================\u001b[1m Ai Message \u001b[0m==================================\n",
      "\n",
      "Mình rất tiếc khi nghe rằng bạn đang cảm thấy như vậy. Những cảm giác muốn tự tử thường xuất phát từ nhiều nguyên nhân khác nhau, bao gồm:\n",
      "\n",
      "1. **Cảm giác cô đơn và tuyệt vọng**: Bạn có thể cảm thấy rằng không có lối thoát nào cho những khó khăn mà bạn đang gặp phải.\n",
      "\n",
      "2. **Trầm cảm hoặc lo âu**: Những tình trạng tâm lý này có thể làm cho bạn cảm thấy đau khổ và không có hy vọng.\n",
      "\n",
      "3. **Áp lực từ cuộc sống**: Có thể bạn đang trải qua những áp lực lớn từ công việc, học tập, hoặc các mối quan hệ trong cuộc sống.\n",
      "\n",
      "4. **Thiếu sự hỗ trợ**: Cảm thấy không có ai để chia sẻ hoặc không có ai hiểu những gì bạn đang trải qua có thể làm tăng cảm giác tuyệt vọng.\n",
      "\n",
      "5. **Chấn thương hoặc mất mát**: Những trải nghiệm đau thương trong quá khứ hoặc mất mát của người thân có thể để lại hậu quả lâu dài.\n",
      "\n",
      "Nếu bạn đang cảm thấy như vậy, hãy tìm kiếm sự giúp đỡ ngay lập tức. Nói chuyện với một người bạn tin tưởng, một thành viên trong gia đình, hoặc một chuyên gia sức khỏe tâm thần có thể giúp bạn tìm ra những cách để đối phó với cảm xúc của mình. Bạn không đơn độc, và có những người muốn giúp bạn vượt qua khó khăn này.\n",
      "================================\u001b[1m Human Message \u001b[0m=================================\n",
      "\n",
      "tôi là ai \n",
      "==================================\u001b[1m Ai Message \u001b[0m==================================\n",
      "\n",
      "Bạn là một cá nhân độc đáo với những suy nghĩ, cảm xúc, và trải nghiệm riêng. Mỗi người đều có câu chuyện của riêng mình và những điều làm cho họ trở nên đặc biệt. Nếu bạn đang cảm thấy bối rối về bản thân hoặc vị trí của mình trong cuộc sống, hãy nhớ rằng những câu hỏi như vậy là hoàn toàn bình thường. Bạn có thể khám phá bản thân qua sở thích, ước mơ, và mối quan hệ với những người xung quanh. Nếu bạn muốn chia sẻ thêm về bản thân hoặc cảm xúc của mình, mình luôn sẵn sàng lắng nghe!\n",
      "================================\u001b[1m Human Message \u001b[0m=================================\n",
      "\n",
      "tôi tên gì\n",
      "==================================\u001b[1m Ai Message \u001b[0m==================================\n",
      "\n",
      "Bạn đã giới thiệu mình là Kỳ Trần trước đó. Nếu bạn muốn thay đổi hoặc không muốn sử dụng tên đó, bạn có thể chia sẻ một tên khác hoặc nói về điều gì đó khác mà bạn muốn. Bạn muốn nói về điều gì tiếp theo?\n",
      "================================\u001b[1m Human Message \u001b[0m=================================\n",
      "\n",
      "chào\n",
      "==================================\u001b[1m Ai Message \u001b[0m==================================\n",
      "\n",
      "Chào bạn! Bạn cần giúp gì hôm nay?\n",
      "================================\u001b[1m Human Message \u001b[0m=================================\n",
      "\n",
      "tôi là kỳ trần moi đẹp trai tài năng mỗi tội bị người yêu đá\n",
      "==================================\u001b[1m Ai Message \u001b[0m==================================\n",
      "\n",
      "Chào Kỳ Trần! Rất vui được gặp bạn. Mặc dù bị người yêu đá là một điều không dễ chịu, nhưng hãy nhớ rằng mọi chuyện rồi sẽ qua. Bạn có thể chia sẻ thêm về cảm xúc của mình không? Hoặc nếu bạn cần lời khuyên để vượt qua giai đoạn này, mình rất sẵn lòng giúp!\n",
      "================================\u001b[1m Human Message \u001b[0m=================================\n",
      "\n",
      "tôi nên làm gì để xả stress đây\n",
      "==================================\u001b[1m Ai Message \u001b[0m==================================\n",
      "\n",
      "Có nhiều cách để xả stress, và bạn có thể thử một số phương pháp sau:\n",
      "\n",
      "1. **Tập thể dục**: Vận động giúp giải phóng endorphins, giúp cải thiện tâm trạng. Bạn có thể đi bộ, chạy, tập yoga hoặc tham gia một lớp thể dục nào đó.\n",
      "\n",
      "2. **Nghe nhạc**: Âm nhạc có thể giúp bạn thư giãn và cải thiện tâm trạng. Hãy nghe những bài hát yêu thích hoặc những bản nhạc nhẹ nhàng.\n",
      "\n",
      "3. **Thiền hoặc hít thở sâu**: Dành vài phút để thiền hoặc thực hiện bài tập hít thở sâu để giúp tâm trí bạn bình tĩnh hơn.\n",
      "\n",
      "4. **Sáng tạo**: Tham gia vào các hoạt động sáng tạo như vẽ, viết lách, hay làm đồ thủ công có thể giúp bạn giải tỏa cảm xúc.\n",
      "\n",
      "5. **Gặp gỡ bạn bè**: Dành thời gian bên những người mà bạn yêu quý, trò chuyện và chia sẻ có thể giúp bạn cảm thấy thoải mái hơn.\n",
      "\n",
      "6. **Thử một sở thích mới**: Khám phá một sở thích mới có thể giúp bạn quên đi những lo âu và tìm thấy niềm vui.\n",
      "\n",
      "7. **Tắm nước ấm**: Một bồn tắm ấm có thể giúp thư giãn cơ thể và tâm trí.\n",
      "\n",
      "Hãy thử một vài cách và xem cái nào phù hợp nhất với bạn nhé!\n",
      "================================\u001b[1m Human Message \u001b[0m=================================\n",
      "\n",
      "tôi muốn tự tử \n",
      "==================================\u001b[1m Ai Message \u001b[0m==================================\n",
      "\n",
      "Mình rất tiếc khi nghe rằng bạn đang cảm thấy như vậy. Điều quan trọng là bạn biết rằng bạn không đơn độc và có người sẵn lòng giúp bạn. Hãy nói chuyện với một người bạn tin tưởng, người thân hoặc một chuyên gia sức khỏe tâm thần. Họ có thể hỗ trợ bạn trong giai đoạn khó khăn này. \n",
      "\n",
      "Nếu bạn cảm thấy cần ngay lập tức, hãy gọi cho đường dây hỗ trợ khẩn cấp hoặc tìm đến trung tâm tư vấn gần nhất. Sức khỏe của bạn rất quan trọng, và có nhiều người muốn giúp đỡ bạn vượt qua thời điểm khó khăn này.\n",
      "================================\u001b[1m Human Message \u001b[0m=================================\n",
      "\n",
      "tại sao tôi lại muốn tự tử vậy\n",
      "==================================\u001b[1m Ai Message \u001b[0m==================================\n",
      "\n",
      "Mình rất tiếc khi nghe rằng bạn đang cảm thấy như vậy. Những cảm giác muốn tự tử thường xuất phát từ nhiều nguyên nhân khác nhau, bao gồm:\n",
      "\n",
      "1. **Cảm giác cô đơn và tuyệt vọng**: Bạn có thể cảm thấy rằng không có lối thoát nào cho những khó khăn mà bạn đang gặp phải.\n",
      "\n",
      "2. **Trầm cảm hoặc lo âu**: Những tình trạng tâm lý này có thể làm cho bạn cảm thấy đau khổ và không có hy vọng.\n",
      "\n",
      "3. **Áp lực từ cuộc sống**: Có thể bạn đang trải qua những áp lực lớn từ công việc, học tập, hoặc các mối quan hệ trong cuộc sống.\n",
      "\n",
      "4. **Thiếu sự hỗ trợ**: Cảm thấy không có ai để chia sẻ hoặc không có ai hiểu những gì bạn đang trải qua có thể làm tăng cảm giác tuyệt vọng.\n",
      "\n",
      "5. **Chấn thương hoặc mất mát**: Những trải nghiệm đau thương trong quá khứ hoặc mất mát của người thân có thể để lại hậu quả lâu dài.\n",
      "\n",
      "Nếu bạn đang cảm thấy như vậy, hãy tìm kiếm sự giúp đỡ ngay lập tức. Nói chuyện với một người bạn tin tưởng, một thành viên trong gia đình, hoặc một chuyên gia sức khỏe tâm thần có thể giúp bạn tìm ra những cách để đối phó với cảm xúc của mình. Bạn không đơn độc, và có những người muốn giúp bạn vượt qua khó khăn này.\n",
      "================================\u001b[1m Human Message \u001b[0m=================================\n",
      "\n",
      "tôi là ai \n",
      "==================================\u001b[1m Ai Message \u001b[0m==================================\n",
      "\n",
      "Bạn là một cá nhân độc đáo với những suy nghĩ, cảm xúc, và trải nghiệm riêng. Mỗi người đều có câu chuyện của riêng mình và những điều làm cho họ trở nên đặc biệt. Nếu bạn đang cảm thấy bối rối về bản thân hoặc vị trí của mình trong cuộc sống, hãy nhớ rằng những câu hỏi như vậy là hoàn toàn bình thường. Bạn có thể khám phá bản thân qua sở thích, ước mơ, và mối quan hệ với những người xung quanh. Nếu bạn muốn chia sẻ thêm về bản thân hoặc cảm xúc của mình, mình luôn sẵn sàng lắng nghe!\n",
      "================================\u001b[1m Human Message \u001b[0m=================================\n",
      "\n",
      "tôi tên gì\n",
      "==================================\u001b[1m Ai Message \u001b[0m==================================\n",
      "\n",
      "Bạn đã giới thiệu mình là Kỳ Trần trước đó. Nếu bạn muốn thay đổi hoặc không muốn sử dụng tên đó, bạn có thể chia sẻ một tên khác hoặc nói về điều gì đó khác mà bạn muốn. Bạn muốn nói về điều gì tiếp theo?\n",
      "================================\u001b[1m Human Message \u001b[0m=================================\n",
      "\n",
      "tôi tên gì \n",
      "==================================\u001b[1m Ai Message \u001b[0m==================================\n",
      "\n",
      "Theo thông tin bạn đã cung cấp trước đó, bạn đã giới thiệu mình là Kỳ Trần. Nếu bạn có tên khác hoặc muốn chia sẻ thêm về bản thân, hãy cho mình biết nhé!\n"
     ]
    }
   ],
   "source": [
    "import asyncio\n",
    "\n",
    "async def call_model(state: MessagesState):\n",
    "    response = llm.invoke(state['messages'])\n",
    "    return {\"messages\": response}\n",
    "\n",
    "workflow = StateGraph(state_schema=MessagesState)\n",
    "\n",
    "workflow.add_edge(START, \"llm\")\n",
    "workflow.add_node(\"llm\", action=call_model)\n",
    "\n",
    "app = workflow.compile(checkpointer=MemorySaver())\n",
    "\n",
    "while True:\n",
    "    query = input(\"You: \")\n",
    "    if query == \"exit\":\n",
    "        break\n",
    "    input_messages = [HumanMessage(query)]\n",
    "    output = await app.ainvoke({\"messages\": input_messages}, config=config)\n",
    "    # (output[\"messages\"][-1].pretty_print())\n",
    "    # stream output\n",
    "    for message in output[\"messages\"]:\n",
    "        message.pretty_print()\n",
    "\n"
   ]
  },
  {
   "cell_type": "markdown",
   "metadata": {},
   "source": [
    "- Hiện tại, tất cả những gì chúng ta đã làm là thêm một lớp duy trì đơn giản xung quanh mô hình. Chúng ta có thể bắt đầu làm cho chatbot phức tạp hơn và được cá nhân hóa hơn bằng cách thêm vào một mẫu nhắc nhở."
   ]
  },
  {
   "cell_type": "markdown",
   "metadata": {},
   "source": [
    "### **Prompt template**"
   ]
  },
  {
   "cell_type": "markdown",
   "metadata": {},
   "source": [
    "- Mẫu nhắc nhở giúp chuyển thông tin người dùng thô thành định dạng mà LLM có thể làm việc. Trong trường hợp này, đầu vào người dùng thô chỉ là một thông báo, mà chúng ta đang chuyển đến LLM. Bây giờ chúng ta hãy làm cho nó phức tạp hơn một chút. Đầu tiên, hãy thêm vào một thông báo hệ thống với một số hướng dẫn tùy chỉnh (nhưng vẫn lấy thông báo làm đầu vào). Tiếp theo, chúng ta sẽ thêm vào nhiều đầu vào hơn ngoài các thông báo.\n",
    "\n",
    "- Để thêm vào một thông báo hệ thống, chúng ta sẽ tạo một ChatPromptTemplate. Chúng ta sẽ sử dụng MessagesPlaceholderđể truyền tất cả các thông báo vào."
   ]
  },
  {
   "cell_type": "code",
   "execution_count": 42,
   "metadata": {},
   "outputs": [],
   "source": [
    "from langchain_core.prompts import ChatPromptTemplate, MessagesPlaceholder\n",
    "\n",
    "prompt = ChatPromptTemplate.from_messages(\n",
    "    [\n",
    "        (\n",
    "            \"system\",\n",
    "            \"Giả sử bạn là người yêu cũ của tôi , hãy trả lời câu hỏi của tôi\",\n",
    "        ),\n",
    "        MessagesPlaceholder(variable_name=\"messages\"),\n",
    "    ]\n",
    "    \n",
    ")"
   ]
  },
  {
   "cell_type": "code",
   "execution_count": 43,
   "metadata": {},
   "outputs": [],
   "source": [
    "workflow = StateGraph(state_schema=MessagesState)\n",
    "\n",
    "\n",
    "async def call_model(state: MessagesState):\n",
    "    chain = prompt | llm\n",
    "    response = chain.invoke(state)\n",
    "    return {\"messages\": response}\n",
    "\n",
    "\n",
    "workflow.add_edge(START, \"llm\")\n",
    "workflow.add_node(\"llm\", action=call_model)\n",
    "\n",
    "memory = MemorySaver()\n",
    "app = workflow.compile(checkpointer=memory)"
   ]
  },
  {
   "cell_type": "code",
   "execution_count": 46,
   "metadata": {},
   "outputs": [
    {
     "name": "stdout",
     "output_type": "stream",
     "text": [
      "==================================\u001b[1m Ai Message \u001b[0m==================================\n",
      "\n",
      "Mình hiểu cảm giác đó, và mình tôn trọng cảm xúc của bạn. Nếu bạn muốn, mình có thể lắng nghe lý do tại sao bạn cảm thấy như vậy. Bạn có muốn chia sẻ không?\n"
     ]
    }
   ],
   "source": [
    "config = {\"configurable\": {\"thread_id\": \"abc345\"}}\n",
    "query = \"tao ghét mày\"\n",
    "\n",
    "input_messages = [HumanMessage(query)]\n",
    "output = await app.ainvoke({\"messages\": input_messages}, config)\n",
    "output[\"messages\"][-1].pretty_print()"
   ]
  },
  {
   "cell_type": "markdown",
   "metadata": {},
   "source": [
    "### **Managing Conversation History**"
   ]
  },
  {
   "cell_type": "markdown",
   "metadata": {},
   "source": [
    "- Một khái niệm quan trọng cần hiểu khi xây dựng chatbot là cách quản lý lịch sử trò chuyện. Nếu không được quản lý, danh sách tin nhắn sẽ tăng lên không giới hạn và có khả năng tràn cửa sổ ngữ cảnh của LLM. Do đó, điều quan trọng là phải thêm một bước giới hạn kích thước của tin nhắn bạn đang truyền vào.\n",
    "\n",
    "- Điều quan trọng là bạn sẽ muốn thực hiện việc này TRƯỚC mẫu lời nhắc nhưng SAU khi bạn tải các tin nhắn trước đó từ Lịch sử tin nhắn.\n",
    "\n",
    "- Chúng ta có thể thực hiện điều này bằng cách thêm một bước đơn giản trước dấu nhắc để sửa đổi messages khóa một cách thích hợp, sau đó gói chuỗi mới đó vào lớp Lịch sử tin nhắn.\n",
    "\n",
    "- LangChain đi kèm một số trình trợ giúp tích hợp để quản lý danh sách tin nhắn . Trong trường hợp này, chúng ta sẽ sử dụng trình trợ giúp trim_messages để giảm số lượng tin nhắn chúng ta đang gửi đến mô hình. Trình cắt cho phép chúng ta chỉ định số lượng mã thông báo chúng ta muốn giữ lại, cùng với các tham số khác như chúng ta có muốn luôn giữ lại tin nhắn hệ thống hay không và có cho phép tin nhắn một phần hay không:"
   ]
  },
  {
   "cell_type": "code",
   "execution_count": 47,
   "metadata": {},
   "outputs": [
    {
     "data": {
      "text/plain": [
       "[SystemMessage(content=\"you're a good assistant\", additional_kwargs={}, response_metadata={}),\n",
       " HumanMessage(content='whats 2 + 2', additional_kwargs={}, response_metadata={}),\n",
       " AIMessage(content='4', additional_kwargs={}, response_metadata={}),\n",
       " HumanMessage(content='thanks', additional_kwargs={}, response_metadata={}),\n",
       " AIMessage(content='no problem!', additional_kwargs={}, response_metadata={}),\n",
       " HumanMessage(content='having fun?', additional_kwargs={}, response_metadata={}),\n",
       " AIMessage(content='yes!', additional_kwargs={}, response_metadata={})]"
      ]
     },
     "execution_count": 47,
     "metadata": {},
     "output_type": "execute_result"
    }
   ],
   "source": [
    "from langchain_core.messages import SystemMessage, trim_messages\n",
    "\n",
    "trimmer = trim_messages(\n",
    "    max_tokens=65,\n",
    "    strategy=\"last\",\n",
    "    token_counter=llm,\n",
    "    include_system=True,\n",
    "    allow_partial=False,\n",
    "    start_on=\"human\",\n",
    ")\n",
    "\n",
    "messages = [\n",
    "    SystemMessage(content=\"you're a good assistant\"),\n",
    "    HumanMessage(content=\"hi! I'm bob\"),\n",
    "    AIMessage(content=\"hi!\"),\n",
    "    HumanMessage(content=\"I like vanilla ice cream\"),\n",
    "    AIMessage(content=\"nice\"),\n",
    "    HumanMessage(content=\"whats 2 + 2\"),\n",
    "    AIMessage(content=\"4\"),\n",
    "    HumanMessage(content=\"thanks\"),\n",
    "    AIMessage(content=\"no problem!\"),\n",
    "    HumanMessage(content=\"having fun?\"),\n",
    "    AIMessage(content=\"yes!\"),\n",
    "]\n",
    "\n",
    "trimmer.invoke(messages)"
   ]
  },
  {
   "cell_type": "markdown",
   "metadata": {},
   "source": [
    "- Để sử dụng nó trong chuỗi của chúng ta, chúng ta chỉ cần chạy trình cắt trước khi truyền messagesdữ liệu đầu vào đến dấu nhắc."
   ]
  },
  {
   "cell_type": "code",
   "execution_count": 48,
   "metadata": {},
   "outputs": [],
   "source": [
    "from typing import Sequence\n",
    "\n",
    "from langchain_core.messages import BaseMessage\n",
    "from langgraph.graph.message import add_messages\n",
    "from typing_extensions import Annotated, TypedDict\n",
    "\n",
    "\n",
    "class State(TypedDict):\n",
    "    messages: Annotated[Sequence[BaseMessage], add_messages]\n",
    "    language: str\n",
    "    \n",
    "workflow = StateGraph(state_schema=State)\n",
    "\n",
    "\n",
    "def call_model(state: State):\n",
    "    chain = prompt | llm\n",
    "    trimmed_messages = trimmer.invoke(state[\"messages\"])\n",
    "    response = chain.invoke(\n",
    "        {\"messages\": trimmed_messages, \"language\": state[\"language\"]}\n",
    "    )\n",
    "    return {\"messages\": [response]}\n",
    "\n",
    "\n",
    "workflow.add_edge(START, \"llm\")\n",
    "workflow.add_node(\"llm\", call_model)\n",
    "\n",
    "memory = MemorySaver()\n",
    "app = workflow.compile(checkpointer=memory)"
   ]
  },
  {
   "cell_type": "markdown",
   "metadata": {},
   "source": [
    "- Bây giờ nếu chúng ta thử hỏi tên của mô hình, nó sẽ không biết vì chúng ta đã cắt bớt phần đó trong lịch sử trò chuyện:"
   ]
  },
  {
   "cell_type": "code",
   "execution_count": 49,
   "metadata": {},
   "outputs": [
    {
     "name": "stdout",
     "output_type": "stream",
     "text": [
      "==================================\u001b[1m Ai Message \u001b[0m==================================\n",
      "\n",
      "I’m sorry, but I don’t know your name. What is it?\n"
     ]
    }
   ],
   "source": [
    "config = {\"configurable\": {\"thread_id\": \"abc567\"}}\n",
    "query = \"What is my name?\"\n",
    "language = \"English\"\n",
    "\n",
    "input_messages = messages + [HumanMessage(query)]\n",
    "output = app.invoke(\n",
    "    {\"messages\": input_messages, \"language\": language},\n",
    "    config,\n",
    ")\n",
    "output[\"messages\"][-1].pretty_print()"
   ]
  },
  {
   "cell_type": "markdown",
   "metadata": {},
   "source": [
    "- Nhưng nếu chúng ta hỏi về thông tin nằm trong vài tin nhắn cuối cùng, nó sẽ ghi nhớ:"
   ]
  },
  {
   "cell_type": "code",
   "execution_count": 50,
   "metadata": {},
   "outputs": [
    {
     "name": "stdout",
     "output_type": "stream",
     "text": [
      "==================================\u001b[1m Ai Message \u001b[0m==================================\n",
      "\n",
      "You asked what 2 + 2 equals.\n"
     ]
    }
   ],
   "source": [
    "config = {\"configurable\": {\"thread_id\": \"abc678\"}}\n",
    "query = \"What math problem did I ask?\"\n",
    "language = \"English\"\n",
    "\n",
    "input_messages = messages + [HumanMessage(query)]\n",
    "output = app.invoke(\n",
    "    {\"messages\": input_messages, \"language\": language},\n",
    "    config,\n",
    ")\n",
    "output[\"messages\"][-1].pretty_print()"
   ]
  },
  {
   "cell_type": "markdown",
   "metadata": {},
   "source": [
    "### **Streaming**"
   ]
  },
  {
   "cell_type": "markdown",
   "metadata": {},
   "source": [
    "- Bây giờ chúng ta đã có một chatbot hoạt động. Tuy nhiên, một cân nhắc thực sự quan trọng về UX đối với các ứng dụng chatbot là phát trực tuyến. LLM đôi khi có thể mất một thời gian để phản hồi, do đó, để cải thiện trải nghiệm người dùng, một điều mà hầu hết các ứng dụng thực hiện là phát trực tuyến lại từng mã thông báo khi nó được tạo. Điều này cho phép người dùng xem tiến trình.\n",
    "\n",
    "- Thực ra, việc này cực kỳ dễ thực hiện!\n",
    "\n",
    "- Theo mặc định, .stream trong ứng dụng LangGraph của chúng tôi, các bước ứng dụng sẽ được truyền phát - trong trường hợp này, là bước duy nhất của phản hồi mô hình. Thiết lập stream_mode=\"messages\" cho phép chúng tôi truyền phát các mã thông báo đầu ra thay thế:"
   ]
  },
  {
   "cell_type": "code",
   "execution_count": 51,
   "metadata": {},
   "outputs": [
    {
     "name": "stdout",
     "output_type": "stream",
     "text": [
      "|Hi| Todd|!| Here|’s| a| joke| for| you|:| \n",
      "\n",
      "|Why| don|’t| scientists| trust| atoms|?| \n",
      "\n",
      "|Because| they| make| up| everything|!||"
     ]
    }
   ],
   "source": [
    "config = {\"configurable\": {\"thread_id\": \"abc789\"}}\n",
    "query = \"Hi I'm Todd, please tell me a joke.\"\n",
    "language = \"English\"\n",
    "\n",
    "input_messages = [HumanMessage(query)]\n",
    "for chunk, metadata in app.stream(\n",
    "    {\"messages\": input_messages, \"language\": language},\n",
    "    config,\n",
    "    stream_mode=\"messages\",\n",
    "):\n",
    "    if isinstance(chunk, AIMessage):  # Filter to just model responses\n",
    "        print(chunk.content, end=\"|\")"
   ]
  },
  {
   "cell_type": "code",
   "execution_count": null,
   "metadata": {},
   "outputs": [],
   "source": []
  }
 ],
 "metadata": {
  "kernelspec": {
   "display_name": ".venv",
   "language": "python",
   "name": "python3"
  },
  "language_info": {
   "codemirror_mode": {
    "name": "ipython",
    "version": 3
   },
   "file_extension": ".py",
   "mimetype": "text/x-python",
   "name": "python",
   "nbconvert_exporter": "python",
   "pygments_lexer": "ipython3",
   "version": "3.9.13"
  }
 },
 "nbformat": 4,
 "nbformat_minor": 2
}
